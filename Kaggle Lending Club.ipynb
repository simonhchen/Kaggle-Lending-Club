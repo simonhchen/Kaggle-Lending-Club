{
 "cells": [
  {
   "cell_type": "code",
   "execution_count": 1,
   "metadata": {},
   "outputs": [],
   "source": [
    "# This Python 3 environment comes with many helpful analytics libraries installed\n",
    "# It is defined by the kaggle/python docker image: https://github.com/kaggle/docker-python\n",
    "# For example, here's several helpful packages to load in \n",
    "\n",
    "import numpy as np # linear algebra\n",
    "import pandas as pd # data processing, CSV file I/O (e.g. pd.read_csv)\n",
    "import matplotlib.pyplot as plt\n",
    "import seaborn as sns\n",
    "import sqlite3\n",
    "\n",
    "from sklearn.model_selection import train_test_split\n",
    "from sklearn.linear_model import LogisticRegression\n",
    "from sklearn.dummy import DummyClassifier\n",
    "from sklearn.metrics import accuracy_score, f1_score, confusion_matrix, recall_score\n",
    "# Input data files are available in the \"../input/\" directory.\n",
    "# For example, running this (by clicking run or pressing Shift+Enter) will list all files under the input directory\n",
    "\n",
    "import os\n",
    "for dirname, _, filenames in os.walk('/kaggle/input'):\n",
    "    for filename in filenames:\n",
    "        print(os.path.join(dirname, filename))\n",
    "\n",
    "# Any results you write to the current directory are saved as output."
   ]
  },
  {
   "cell_type": "markdown",
   "metadata": {
    "pycharm": {
     "name": "#%% md\n"
    }
   },
   "source": [
    "# Notebook Goals \n",
    "The goal of this notebook is the use the Five C's of credit framework to select the proxy features from the Kaggle Lending\n",
    "Club Dataset to predict loan default probability.\n",
    "\n",
    "Using the predicted loan default probability, the notebook will the generate expected loss on loans within the portfolio.\n"
   ]
  },
  {
   "cell_type": "code",
   "execution_count": 2,
   "metadata": {},
   "outputs": [],
   "source": [
    "# Establish connection. database needs to be in the same folder as notebook \n",
    "conn = sqlite3.connect(\"database.sqlite\")\n",
    "\n",
    "# Then create a Cursor object from which we can call the execute() method and to perform SQL statements and queries.\n",
    "c = conn.cursor()"
   ]
  },
  {
   "cell_type": "code",
   "execution_count": 3,
   "metadata": {},
   "outputs": [],
   "source": [
    "raw_data = pd.read_sql(\"\"\"\n",
    "                       SELECT pub_rec_bankruptcies, earliest_cr_line, issue_d,  annual_inc, dti, emp_length, loan_amnt, int_rate,\n",
    "                       home_ownership, term, loan_status, grade\n",
    "                       FROM loan\n",
    "                       WHERE application_type in ('Individual')\n",
    "                       \"\"\", con=conn)"
   ]
  },
  {
   "cell_type": "code",
   "execution_count": 4,
   "metadata": {},
   "outputs": [
    {
     "name": "stdout",
     "output_type": "stream",
     "text": [
      "['pub_rec_bankruptcies', 'annual_inc', 'dti', 'loan_amnt', 'int_rate']\n"
     ]
    }
   ],
   "source": [
    "# Create a list of columns that are NOT numeric values\n",
    "not_numeric_cols = ['emp_length', 'loan_status', 'home_ownership', 'issue_d',\n",
    "                    'earliest_cr_line', 'purpose', 'term', 'grade']\n",
    "\n",
    "# Create list of columns that ARE numeric values and print\n",
    "numeric_cols = [col for col in raw_data.columns if col not in not_numeric_cols]\n",
    "print(numeric_cols)\n",
    "\n",
    "# Convert numeric cols into numeric data types\n",
    "raw_data[numeric_cols] = raw_data[numeric_cols].apply(pd.to_numeric)"
   ]
  },
  {
   "cell_type": "code",
   "execution_count": 5,
   "metadata": {},
   "outputs": [],
   "source": [
    "# Create list of datetime columns\n",
    "datetime_cols = ['earliest_cr_line', 'issue_d']\n",
    "\n",
    "# Convert to datetime\n",
    "raw_data[datetime_cols] = raw_data[datetime_cols].apply(pd.to_datetime)"
   ]
  },
  {
   "cell_type": "code",
   "execution_count": 6,
   "metadata": {},
   "outputs": [
    {
     "data": {
      "text/plain": [
       "pub_rec_bankruptcies           float64\n",
       "earliest_cr_line        datetime64[ns]\n",
       "issue_d                 datetime64[ns]\n",
       "annual_inc                     float64\n",
       "dti                            float64\n",
       "emp_length                      object\n",
       "loan_amnt                        int64\n",
       "int_rate                       float64\n",
       "home_ownership                  object\n",
       "term                            object\n",
       "loan_status                     object\n",
       "grade                           object\n",
       "dtype: object"
      ]
     },
     "execution_count": 6,
     "metadata": {},
     "output_type": "execute_result"
    }
   ],
   "source": [
    "preprocess_df = raw_data\n",
    "preprocess_df.dtypes"
   ]
  },
  {
   "cell_type": "markdown",
   "metadata": {},
   "source": [
    "# Missing Data / Missing Observations"
   ]
  },
  {
   "cell_type": "code",
   "execution_count": 7,
   "metadata": {},
   "outputs": [
    {
     "data": {
      "text/plain": [
       "pub_rec_bankruptcies    1365\n",
       "earliest_cr_line          29\n",
       "issue_d                    0\n",
       "annual_inc                 4\n",
       "dti                        0\n",
       "emp_length                 0\n",
       "loan_amnt                  0\n",
       "int_rate                   0\n",
       "home_ownership             0\n",
       "term                       0\n",
       "loan_status                0\n",
       "grade                      0\n",
       "dtype: int64"
      ]
     },
     "execution_count": 7,
     "metadata": {},
     "output_type": "execute_result"
    }
   ],
   "source": [
    "preprocess_df.isnull().sum()"
   ]
  },
  {
   "cell_type": "markdown",
   "metadata": {},
   "source": [
    "# Character: pub_rec_bankruptcies & earliest_cr_line\n",
    "What it is: A lender’s opinion of a borrower’s general trustworthiness, credibility and personality.\n",
    "\n",
    "Why it matters: Banks want to lend to people who are responsible and keep commitments.\n",
    "\n",
    "How it’s assessed: From your work experience, credit history, credentials, references, reputation and interaction with lenders."
   ]
  },
  {
   "cell_type": "code",
   "execution_count": 8,
   "metadata": {},
   "outputs": [],
   "source": [
    "character_df = preprocess_df[['pub_rec_bankruptcies', 'earliest_cr_line', 'issue_d']].copy()"
   ]
  },
  {
   "cell_type": "code",
   "execution_count": 9,
   "metadata": {},
   "outputs": [
    {
     "name": "stdout",
     "output_type": "stream",
     "text": [
      "   pub_rec_bankruptcies earliest_cr_line    issue_d\n",
      "0                   1.0       2001-04-01 2018-12-01\n",
      "1                   1.0       1987-06-01 2018-12-01\n",
      "2                   0.0       2011-04-01 2018-12-01\n",
      "3                   0.0       2006-02-01 2018-12-01\n",
      "4                   0.0       2000-12-01 2018-12-01\n",
      "       pub_rec_bankruptcies\n",
      "count          2.138593e+06\n",
      "mean           1.281576e-01\n",
      "std            3.655991e-01\n",
      "min            0.000000e+00\n",
      "25%            0.000000e+00\n",
      "50%            0.000000e+00\n",
      "75%            0.000000e+00\n",
      "max            1.200000e+01\n",
      "pub_rec_bankruptcies           float64\n",
      "earliest_cr_line        datetime64[ns]\n",
      "issue_d                 datetime64[ns]\n",
      "dtype: object\n"
     ]
    }
   ],
   "source": [
    "print(character_df.head())\n",
    "print(character_df.describe())\n",
    "print(character_df.dtypes)"
   ]
  },
  {
   "cell_type": "markdown",
   "metadata": {},
   "source": [
    "<code>'earliest_cr_line'</code> shows the first credit line on the customer credit report. \n",
    "\n",
    "Will create a new feature that shows the number of months between the first credit line in the customers history and the issue date of the loan."
   ]
  },
  {
   "cell_type": "code",
   "execution_count": 10,
   "metadata": {},
   "outputs": [],
   "source": [
    "# fill the missing value for earliest_cr_line with most frequently occuring\n",
    "character_df['earliest_cr_line'].fillna(character_df['earliest_cr_line'].value_counts().index[0], inplace=True)"
   ]
  },
  {
   "cell_type": "code",
   "execution_count": 11,
   "metadata": {},
   "outputs": [
    {
     "data": {
      "text/html": [
       "<div>\n",
       "<style scoped>\n",
       "    .dataframe tbody tr th:only-of-type {\n",
       "        vertical-align: middle;\n",
       "    }\n",
       "\n",
       "    .dataframe tbody tr th {\n",
       "        vertical-align: top;\n",
       "    }\n",
       "\n",
       "    .dataframe thead th {\n",
       "        text-align: right;\n",
       "    }\n",
       "</style>\n",
       "<table border=\"1\" class=\"dataframe\">\n",
       "  <thead>\n",
       "    <tr style=\"text-align: right;\">\n",
       "      <th></th>\n",
       "      <th>pub_rec_bankruptcies</th>\n",
       "      <th>earliest_cr_line</th>\n",
       "      <th>issue_d</th>\n",
       "      <th>credit_hist_in_months</th>\n",
       "    </tr>\n",
       "  </thead>\n",
       "  <tbody>\n",
       "    <tr>\n",
       "      <th>0</th>\n",
       "      <td>1.0</td>\n",
       "      <td>2001-04-01</td>\n",
       "      <td>2018-12-01</td>\n",
       "      <td>212</td>\n",
       "    </tr>\n",
       "    <tr>\n",
       "      <th>1</th>\n",
       "      <td>1.0</td>\n",
       "      <td>1987-06-01</td>\n",
       "      <td>2018-12-01</td>\n",
       "      <td>378</td>\n",
       "    </tr>\n",
       "    <tr>\n",
       "      <th>2</th>\n",
       "      <td>0.0</td>\n",
       "      <td>2011-04-01</td>\n",
       "      <td>2018-12-01</td>\n",
       "      <td>92</td>\n",
       "    </tr>\n",
       "    <tr>\n",
       "      <th>3</th>\n",
       "      <td>0.0</td>\n",
       "      <td>2006-02-01</td>\n",
       "      <td>2018-12-01</td>\n",
       "      <td>153</td>\n",
       "    </tr>\n",
       "    <tr>\n",
       "      <th>4</th>\n",
       "      <td>0.0</td>\n",
       "      <td>2000-12-01</td>\n",
       "      <td>2018-12-01</td>\n",
       "      <td>215</td>\n",
       "    </tr>\n",
       "  </tbody>\n",
       "</table>\n",
       "</div>"
      ],
      "text/plain": [
       "   pub_rec_bankruptcies earliest_cr_line    issue_d  credit_hist_in_months\n",
       "0                   1.0       2001-04-01 2018-12-01                    212\n",
       "1                   1.0       1987-06-01 2018-12-01                    378\n",
       "2                   0.0       2011-04-01 2018-12-01                     92\n",
       "3                   0.0       2006-02-01 2018-12-01                    153\n",
       "4                   0.0       2000-12-01 2018-12-01                    215"
      ]
     },
     "execution_count": 11,
     "metadata": {},
     "output_type": "execute_result"
    }
   ],
   "source": [
    "# count months between now and 'earliest_cr_line'\n",
    "character_df['credit_hist_in_months'] = ((character_df['issue_d'] - character_df['earliest_cr_line'])/np.timedelta64(1, 'M'))\n",
    "character_df['credit_hist_in_months'] = character_df['credit_hist_in_months'].astype(int)\n",
    "\n",
    "character_df.head()"
   ]
  },
  {
   "cell_type": "code",
   "execution_count": 12,
   "metadata": {},
   "outputs": [
    {
     "data": {
      "text/html": [
       "<div>\n",
       "<style scoped>\n",
       "    .dataframe tbody tr th:only-of-type {\n",
       "        vertical-align: middle;\n",
       "    }\n",
       "\n",
       "    .dataframe tbody tr th {\n",
       "        vertical-align: top;\n",
       "    }\n",
       "\n",
       "    .dataframe thead th {\n",
       "        text-align: right;\n",
       "    }\n",
       "</style>\n",
       "<table border=\"1\" class=\"dataframe\">\n",
       "  <thead>\n",
       "    <tr style=\"text-align: right;\">\n",
       "      <th></th>\n",
       "      <th>pub_rec_bankruptcies</th>\n",
       "      <th>earliest_cr_line</th>\n",
       "      <th>issue_d</th>\n",
       "      <th>credit_hist_in_months</th>\n",
       "      <th>cb_person_bk_on_file_Y</th>\n",
       "    </tr>\n",
       "  </thead>\n",
       "  <tbody>\n",
       "    <tr>\n",
       "      <th>0</th>\n",
       "      <td>1.0</td>\n",
       "      <td>2001-04-01</td>\n",
       "      <td>2018-12-01</td>\n",
       "      <td>212</td>\n",
       "      <td>1</td>\n",
       "    </tr>\n",
       "    <tr>\n",
       "      <th>1</th>\n",
       "      <td>1.0</td>\n",
       "      <td>1987-06-01</td>\n",
       "      <td>2018-12-01</td>\n",
       "      <td>378</td>\n",
       "      <td>1</td>\n",
       "    </tr>\n",
       "    <tr>\n",
       "      <th>2</th>\n",
       "      <td>0.0</td>\n",
       "      <td>2011-04-01</td>\n",
       "      <td>2018-12-01</td>\n",
       "      <td>92</td>\n",
       "      <td>0</td>\n",
       "    </tr>\n",
       "    <tr>\n",
       "      <th>3</th>\n",
       "      <td>0.0</td>\n",
       "      <td>2006-02-01</td>\n",
       "      <td>2018-12-01</td>\n",
       "      <td>153</td>\n",
       "      <td>0</td>\n",
       "    </tr>\n",
       "    <tr>\n",
       "      <th>4</th>\n",
       "      <td>0.0</td>\n",
       "      <td>2000-12-01</td>\n",
       "      <td>2018-12-01</td>\n",
       "      <td>215</td>\n",
       "      <td>0</td>\n",
       "    </tr>\n",
       "  </tbody>\n",
       "</table>\n",
       "</div>"
      ],
      "text/plain": [
       "   pub_rec_bankruptcies earliest_cr_line    issue_d  credit_hist_in_months  \\\n",
       "0                   1.0       2001-04-01 2018-12-01                    212   \n",
       "1                   1.0       1987-06-01 2018-12-01                    378   \n",
       "2                   0.0       2011-04-01 2018-12-01                     92   \n",
       "3                   0.0       2006-02-01 2018-12-01                    153   \n",
       "4                   0.0       2000-12-01 2018-12-01                    215   \n",
       "\n",
       "   cb_person_bk_on_file_Y  \n",
       "0                       1  \n",
       "1                       1  \n",
       "2                       0  \n",
       "3                       0  \n",
       "4                       0  "
      ]
     },
     "execution_count": 12,
     "metadata": {},
     "output_type": "execute_result"
    }
   ],
   "source": [
    "# Create a new binary feature of whether or not there is a bankruptcy on file in customers credit history\n",
    "character_df['cb_person_bk_on_file_Y'] = character_df['pub_rec_bankruptcies'].apply(lambda x: 1 if x >= 1 else 0)\n",
    "character_df.head()"
   ]
  },
  {
   "cell_type": "code",
   "execution_count": 13,
   "metadata": {},
   "outputs": [
    {
     "data": {
      "text/html": [
       "<div>\n",
       "<style scoped>\n",
       "    .dataframe tbody tr th:only-of-type {\n",
       "        vertical-align: middle;\n",
       "    }\n",
       "\n",
       "    .dataframe tbody tr th {\n",
       "        vertical-align: top;\n",
       "    }\n",
       "\n",
       "    .dataframe thead th {\n",
       "        text-align: right;\n",
       "    }\n",
       "</style>\n",
       "<table border=\"1\" class=\"dataframe\">\n",
       "  <thead>\n",
       "    <tr style=\"text-align: right;\">\n",
       "      <th></th>\n",
       "      <th>credit_hist_in_months</th>\n",
       "      <th>cb_person_bk_on_file_Y</th>\n",
       "    </tr>\n",
       "  </thead>\n",
       "  <tbody>\n",
       "    <tr>\n",
       "      <th>0</th>\n",
       "      <td>212</td>\n",
       "      <td>1</td>\n",
       "    </tr>\n",
       "    <tr>\n",
       "      <th>1</th>\n",
       "      <td>378</td>\n",
       "      <td>1</td>\n",
       "    </tr>\n",
       "    <tr>\n",
       "      <th>2</th>\n",
       "      <td>92</td>\n",
       "      <td>0</td>\n",
       "    </tr>\n",
       "    <tr>\n",
       "      <th>3</th>\n",
       "      <td>153</td>\n",
       "      <td>0</td>\n",
       "    </tr>\n",
       "    <tr>\n",
       "      <th>4</th>\n",
       "      <td>215</td>\n",
       "      <td>0</td>\n",
       "    </tr>\n",
       "  </tbody>\n",
       "</table>\n",
       "</div>"
      ],
      "text/plain": [
       "   credit_hist_in_months  cb_person_bk_on_file_Y\n",
       "0                    212                       1\n",
       "1                    378                       1\n",
       "2                     92                       0\n",
       "3                    153                       0\n",
       "4                    215                       0"
      ]
     },
     "execution_count": 13,
     "metadata": {},
     "output_type": "execute_result"
    }
   ],
   "source": [
    "# drop the old features from the character_df\n",
    "character_df.drop(['pub_rec_bankruptcies', 'earliest_cr_line', 'issue_d'], axis=1, inplace=True)\n",
    "character_df.head()"
   ]
  },
  {
   "cell_type": "markdown",
   "metadata": {},
   "source": [
    "# Capacity/Cash flow: annual_inc & dti\n",
    "What it is: Your ability to repay the loan.\n",
    "\n",
    "Why it matters: Lenders want to be assured that your business generates enough cash flow to repay the loan in full."
   ]
  },
  {
   "cell_type": "code",
   "execution_count": 14,
   "metadata": {},
   "outputs": [
    {
     "data": {
      "text/html": [
       "<div>\n",
       "<style scoped>\n",
       "    .dataframe tbody tr th:only-of-type {\n",
       "        vertical-align: middle;\n",
       "    }\n",
       "\n",
       "    .dataframe tbody tr th {\n",
       "        vertical-align: top;\n",
       "    }\n",
       "\n",
       "    .dataframe thead th {\n",
       "        text-align: right;\n",
       "    }\n",
       "</style>\n",
       "<table border=\"1\" class=\"dataframe\">\n",
       "  <thead>\n",
       "    <tr style=\"text-align: right;\">\n",
       "      <th></th>\n",
       "      <th>annual_inc</th>\n",
       "      <th>dti</th>\n",
       "    </tr>\n",
       "  </thead>\n",
       "  <tbody>\n",
       "    <tr>\n",
       "      <th>0</th>\n",
       "      <td>55000.0</td>\n",
       "      <td>18.24</td>\n",
       "    </tr>\n",
       "    <tr>\n",
       "      <th>1</th>\n",
       "      <td>90000.0</td>\n",
       "      <td>26.52</td>\n",
       "    </tr>\n",
       "    <tr>\n",
       "      <th>2</th>\n",
       "      <td>59280.0</td>\n",
       "      <td>10.51</td>\n",
       "    </tr>\n",
       "    <tr>\n",
       "      <th>3</th>\n",
       "      <td>92000.0</td>\n",
       "      <td>16.74</td>\n",
       "    </tr>\n",
       "    <tr>\n",
       "      <th>4</th>\n",
       "      <td>57250.0</td>\n",
       "      <td>26.35</td>\n",
       "    </tr>\n",
       "  </tbody>\n",
       "</table>\n",
       "</div>"
      ],
      "text/plain": [
       "   annual_inc    dti\n",
       "0     55000.0  18.24\n",
       "1     90000.0  26.52\n",
       "2     59280.0  10.51\n",
       "3     92000.0  16.74\n",
       "4     57250.0  26.35"
      ]
     },
     "execution_count": 14,
     "metadata": {},
     "output_type": "execute_result"
    }
   ],
   "source": [
    "capacity_df = preprocess_df[['annual_inc', 'dti']].copy()\n",
    "capacity_df.head()"
   ]
  },
  {
   "cell_type": "code",
   "execution_count": 15,
   "metadata": {},
   "outputs": [],
   "source": [
    "# fill missing values for annual income with the mean\n",
    "capacity_df['annual_inc'] = capacity_df['annual_inc'].fillna(capacity_df['annual_inc'].mean())\n",
    "\n",
    "# fill missing values for dti with the mean\n",
    "capacity_df['dti'] = capacity_df['dti'].fillna(capacity_df['dti'].mean())"
   ]
  },
  {
   "cell_type": "code",
   "execution_count": 16,
   "metadata": {},
   "outputs": [
    {
     "name": "stdout",
     "output_type": "stream",
     "text": [
      "         annual_inc           dti\n",
      "count  2.139958e+06  2.139958e+06\n",
      "mean   7.900108e+04  1.809316e+01\n",
      "std    1.150763e+05  8.425408e+00\n",
      "min    1.896000e+03 -1.000000e+00\n",
      "25%    4.740000e+04  1.178000e+01\n",
      "50%    6.530000e+04  1.760000e+01\n",
      "75%    9.500000e+04  2.404000e+01\n",
      "max    1.100000e+08  4.996000e+01\n"
     ]
    }
   ],
   "source": [
    "# describe the capacity/cash flow proxy features\n",
    "print(capacity_df[['annual_inc', 'dti']].describe())"
   ]
  },
  {
   "cell_type": "markdown",
   "metadata": {
    "pycharm": {
     "name": "#%% md\n"
    }
   },
   "source": [
    "# Capital\n",
    "What it is: The amount of money invested by the business owner or management team.\n",
    "\n",
    "Why it matters: Banks are more willing to lend to owners who have invested some of their own money into the venture. It shows you have some “skin in the game.”\n",
    "\n",
    "How it’s assessed: From the amount of money the borrower or management team has invested in the business."
   ]
  },
  {
   "cell_type": "markdown",
   "metadata": {
    "pycharm": {
     "name": "#%% md\n"
    }
   },
   "source": [
    "# <i>NO PROXY FEATURES USED FOR CAPITAL<i>"
   ]
  },
  {
   "cell_type": "markdown",
   "metadata": {},
   "source": [
    "# Conditions : loan_amnt, int_rate, term\n",
    "What it is: The condition of your business — whether it is growing or faltering — as well as what you’ll use the funds for. It also considers the state of the economy, industry trends and how these factors might affect your ability to repay the loan.\n",
    "\n",
    "Why it matters: To ensure that loans are repaid, banks want to lend to businesses operating under favorable conditions. They aim to identify risks and protect themselves accordingly.\n",
    "\n",
    "How it’s assessed: From a review of the competitive landscape, supplier and customer relationships, and macroeconomic and industry-specific issues."
   ]
  },
  {
   "cell_type": "code",
   "execution_count": 17,
   "metadata": {
    "pycharm": {
     "name": "#%%\n"
    }
   },
   "outputs": [],
   "source": [
    "conditions_df = preprocess_df[['loan_amnt', 'int_rate', 'term']].copy()"
   ]
  },
  {
   "cell_type": "code",
   "execution_count": 18,
   "metadata": {
    "pycharm": {
     "name": "#%%\n"
    },
    "scrolled": false
   },
   "outputs": [
    {
     "data": {
      "text/plain": [
       " 36 months    1539983\n",
       " 60 months     599975\n",
       "Name: term, dtype: int64"
      ]
     },
     "execution_count": 18,
     "metadata": {},
     "output_type": "execute_result"
    }
   ],
   "source": [
    "conditions_df.term.value_counts()"
   ]
  },
  {
   "cell_type": "code",
   "execution_count": 19,
   "metadata": {},
   "outputs": [
    {
     "name": "stdout",
     "output_type": "stream",
     "text": [
      "0    1539983\n",
      "1     599975\n",
      "Name: term_60, dtype: int64\n"
     ]
    },
    {
     "data": {
      "text/html": [
       "<div>\n",
       "<style scoped>\n",
       "    .dataframe tbody tr th:only-of-type {\n",
       "        vertical-align: middle;\n",
       "    }\n",
       "\n",
       "    .dataframe tbody tr th {\n",
       "        vertical-align: top;\n",
       "    }\n",
       "\n",
       "    .dataframe thead th {\n",
       "        text-align: right;\n",
       "    }\n",
       "</style>\n",
       "<table border=\"1\" class=\"dataframe\">\n",
       "  <thead>\n",
       "    <tr style=\"text-align: right;\">\n",
       "      <th></th>\n",
       "      <th>loan_amnt</th>\n",
       "      <th>int_rate</th>\n",
       "      <th>term_60</th>\n",
       "    </tr>\n",
       "  </thead>\n",
       "  <tbody>\n",
       "    <tr>\n",
       "      <th>0</th>\n",
       "      <td>2500</td>\n",
       "      <td>13.56</td>\n",
       "      <td>0</td>\n",
       "    </tr>\n",
       "    <tr>\n",
       "      <th>1</th>\n",
       "      <td>30000</td>\n",
       "      <td>18.94</td>\n",
       "      <td>1</td>\n",
       "    </tr>\n",
       "    <tr>\n",
       "      <th>2</th>\n",
       "      <td>5000</td>\n",
       "      <td>17.97</td>\n",
       "      <td>0</td>\n",
       "    </tr>\n",
       "    <tr>\n",
       "      <th>3</th>\n",
       "      <td>4000</td>\n",
       "      <td>18.94</td>\n",
       "      <td>0</td>\n",
       "    </tr>\n",
       "    <tr>\n",
       "      <th>4</th>\n",
       "      <td>30000</td>\n",
       "      <td>16.14</td>\n",
       "      <td>1</td>\n",
       "    </tr>\n",
       "  </tbody>\n",
       "</table>\n",
       "</div>"
      ],
      "text/plain": [
       "   loan_amnt  int_rate  term_60\n",
       "0       2500     13.56        0\n",
       "1      30000     18.94        1\n",
       "2       5000     17.97        0\n",
       "3       4000     18.94        0\n",
       "4      30000     16.14        1"
      ]
     },
     "execution_count": 19,
     "metadata": {},
     "output_type": "execute_result"
    }
   ],
   "source": [
    "# Convert values of term to 0, 1 where 0 = 36 months and 1 = 60 months\n",
    "conditions_df['term'] = conditions_df['term'].replace({' 36 months': '0',\n",
    "                                                       ' 60 months': '1'})\n",
    "\n",
    "# convert term into an integer data type \n",
    "conditions_df['term'] = conditions_df['term'].astype(int)\n",
    "\n",
    "# Rename term column\n",
    "conditions_df = conditions_df.rename(columns={'term': 'term_60'})\n",
    "\n",
    "print(conditions_df.term_60.value_counts())\n",
    "conditions_df.head()"
   ]
  },
  {
   "cell_type": "markdown",
   "metadata": {
    "pycharm": {
     "name": "#%% md\n"
    }
   },
   "source": [
    "# Collateral: home_ownership\n",
    "What it is: Assets that are used to guarantee or secure a loan.\n",
    "\n",
    "Why it matters: Collateral is a backup source if the borrower cannot repay a loan."
   ]
  },
  {
   "cell_type": "code",
   "execution_count": 20,
   "metadata": {},
   "outputs": [
    {
     "data": {
      "text/html": [
       "<div>\n",
       "<style scoped>\n",
       "    .dataframe tbody tr th:only-of-type {\n",
       "        vertical-align: middle;\n",
       "    }\n",
       "\n",
       "    .dataframe tbody tr th {\n",
       "        vertical-align: top;\n",
       "    }\n",
       "\n",
       "    .dataframe thead th {\n",
       "        text-align: right;\n",
       "    }\n",
       "</style>\n",
       "<table border=\"1\" class=\"dataframe\">\n",
       "  <thead>\n",
       "    <tr style=\"text-align: right;\">\n",
       "      <th></th>\n",
       "      <th>home_ownership</th>\n",
       "    </tr>\n",
       "  </thead>\n",
       "  <tbody>\n",
       "    <tr>\n",
       "      <th>0</th>\n",
       "      <td>RENT</td>\n",
       "    </tr>\n",
       "    <tr>\n",
       "      <th>1</th>\n",
       "      <td>MORTGAGE</td>\n",
       "    </tr>\n",
       "    <tr>\n",
       "      <th>2</th>\n",
       "      <td>MORTGAGE</td>\n",
       "    </tr>\n",
       "    <tr>\n",
       "      <th>3</th>\n",
       "      <td>MORTGAGE</td>\n",
       "    </tr>\n",
       "    <tr>\n",
       "      <th>4</th>\n",
       "      <td>MORTGAGE</td>\n",
       "    </tr>\n",
       "  </tbody>\n",
       "</table>\n",
       "</div>"
      ],
      "text/plain": [
       "  home_ownership\n",
       "0           RENT\n",
       "1       MORTGAGE\n",
       "2       MORTGAGE\n",
       "3       MORTGAGE\n",
       "4       MORTGAGE"
      ]
     },
     "execution_count": 20,
     "metadata": {},
     "output_type": "execute_result"
    }
   ],
   "source": [
    "collateral_df = preprocess_df[['home_ownership']].copy()\n",
    "collateral_df.head()"
   ]
  },
  {
   "cell_type": "code",
   "execution_count": 21,
   "metadata": {
    "pycharm": {
     "name": "#%%\n"
    }
   },
   "outputs": [
    {
     "data": {
      "text/html": [
       "<div>\n",
       "<style scoped>\n",
       "    .dataframe tbody tr th:only-of-type {\n",
       "        vertical-align: middle;\n",
       "    }\n",
       "\n",
       "    .dataframe tbody tr th {\n",
       "        vertical-align: top;\n",
       "    }\n",
       "\n",
       "    .dataframe thead th {\n",
       "        text-align: right;\n",
       "    }\n",
       "</style>\n",
       "<table border=\"1\" class=\"dataframe\">\n",
       "  <thead>\n",
       "    <tr style=\"text-align: right;\">\n",
       "      <th></th>\n",
       "      <th>home_ownership_ANY</th>\n",
       "      <th>home_ownership_MORTGAGE</th>\n",
       "      <th>home_ownership_NONE</th>\n",
       "      <th>home_ownership_OTHER</th>\n",
       "      <th>home_ownership_OWN</th>\n",
       "      <th>home_ownership_RENT</th>\n",
       "    </tr>\n",
       "  </thead>\n",
       "  <tbody>\n",
       "    <tr>\n",
       "      <th>0</th>\n",
       "      <td>0</td>\n",
       "      <td>0</td>\n",
       "      <td>0</td>\n",
       "      <td>0</td>\n",
       "      <td>0</td>\n",
       "      <td>1</td>\n",
       "    </tr>\n",
       "    <tr>\n",
       "      <th>1</th>\n",
       "      <td>0</td>\n",
       "      <td>1</td>\n",
       "      <td>0</td>\n",
       "      <td>0</td>\n",
       "      <td>0</td>\n",
       "      <td>0</td>\n",
       "    </tr>\n",
       "    <tr>\n",
       "      <th>2</th>\n",
       "      <td>0</td>\n",
       "      <td>1</td>\n",
       "      <td>0</td>\n",
       "      <td>0</td>\n",
       "      <td>0</td>\n",
       "      <td>0</td>\n",
       "    </tr>\n",
       "    <tr>\n",
       "      <th>3</th>\n",
       "      <td>0</td>\n",
       "      <td>1</td>\n",
       "      <td>0</td>\n",
       "      <td>0</td>\n",
       "      <td>0</td>\n",
       "      <td>0</td>\n",
       "    </tr>\n",
       "    <tr>\n",
       "      <th>4</th>\n",
       "      <td>0</td>\n",
       "      <td>1</td>\n",
       "      <td>0</td>\n",
       "      <td>0</td>\n",
       "      <td>0</td>\n",
       "      <td>0</td>\n",
       "    </tr>\n",
       "  </tbody>\n",
       "</table>\n",
       "</div>"
      ],
      "text/plain": [
       "   home_ownership_ANY  home_ownership_MORTGAGE  home_ownership_NONE  \\\n",
       "0                   0                        0                    0   \n",
       "1                   0                        1                    0   \n",
       "2                   0                        1                    0   \n",
       "3                   0                        1                    0   \n",
       "4                   0                        1                    0   \n",
       "\n",
       "   home_ownership_OTHER  home_ownership_OWN  home_ownership_RENT  \n",
       "0                     0                   0                    1  \n",
       "1                     0                   0                    0  \n",
       "2                     0                   0                    0  \n",
       "3                     0                   0                    0  \n",
       "4                     0                   0                    0  "
      ]
     },
     "execution_count": 21,
     "metadata": {},
     "output_type": "execute_result"
    }
   ],
   "source": [
    "# create emp_length dummy data frame\n",
    "home_ownership = pd.DataFrame(pd.get_dummies(collateral_df['home_ownership'], prefix='home_ownership'))\n",
    "\n",
    "# join the loan_amnt dummy dataframe to conditions_df\n",
    "collateral_df = pd.concat([collateral_df, home_ownership], axis=1, sort=False)\n",
    "\n",
    "# drop original emp_length feature\n",
    "collateral_df.drop(['home_ownership'], axis=1, inplace=True)\n",
    "\n",
    "collateral_df.head()"
   ]
  },
  {
   "cell_type": "markdown",
   "metadata": {
    "pycharm": {
     "name": "#%% md\n"
    }
   },
   "source": [
    "# Loan Status\n",
    "\n",
    "Current Status of the Loan. Target variable"
   ]
  },
  {
   "cell_type": "code",
   "execution_count": 22,
   "metadata": {},
   "outputs": [
    {
     "data": {
      "text/plain": [
       "Fully Paid                                             1024444\n",
       "Current                                                 825914\n",
       "Charged Off                                             255926\n",
       "Late (31-120 days)                                       19716\n",
       "In Grace Period                                           7862\n",
       "Late (16-30 days)                                         3323\n",
       "Does not meet the credit policy. Status:Fully Paid        1988\n",
       "Does not meet the credit policy. Status:Charged Off        761\n",
       "Default                                                     24\n",
       "Name: loan_status, dtype: int64"
      ]
     },
     "execution_count": 22,
     "metadata": {},
     "output_type": "execute_result"
    }
   ],
   "source": [
    "loan_status_df = preprocess_df[['loan_status']].copy()\n",
    "loan_status_df.loan_status.value_counts()"
   ]
  },
  {
   "cell_type": "markdown",
   "metadata": {},
   "source": [
    "Remap loan_status values. Charged Off, Late, & In Grace Period are considered to be technical defaults. 0 is Non-default, 1 is Default"
   ]
  },
  {
   "cell_type": "code",
   "execution_count": 23,
   "metadata": {},
   "outputs": [
    {
     "data": {
      "text/plain": [
       "0    1852346\n",
       "1     287612\n",
       "Name: loan_status, dtype: int64"
      ]
     },
     "execution_count": 23,
     "metadata": {},
     "output_type": "execute_result"
    }
   ],
   "source": [
    "loan_status_df['loan_status'] = loan_status_df['loan_status'].replace({'Fully Paid': 0, 'Current': 0, 'Charged Off': 1,\n",
    "                                                                       'Late (31-120 days)': 1, 'In Grace Period': 1,\n",
    "                                                                       'Late (16-30 days)':1,\n",
    "                                                                       'Does not meet the credit policy. Status:Fully Paid': 0,\n",
    "                                                                       'Does not meet the credit policy. Status:Charged Off': 1,\n",
    "                                                                       'Default':1})\n",
    "loan_status_df.loan_status.value_counts()"
   ]
  },
  {
   "cell_type": "markdown",
   "metadata": {},
   "source": [
    "# Combine all the processed dataframes together into a single one"
   ]
  },
  {
   "cell_type": "code",
   "execution_count": 24,
   "metadata": {},
   "outputs": [
    {
     "data": {
      "text/html": [
       "<div>\n",
       "<style scoped>\n",
       "    .dataframe tbody tr th:only-of-type {\n",
       "        vertical-align: middle;\n",
       "    }\n",
       "\n",
       "    .dataframe tbody tr th {\n",
       "        vertical-align: top;\n",
       "    }\n",
       "\n",
       "    .dataframe thead th {\n",
       "        text-align: right;\n",
       "    }\n",
       "</style>\n",
       "<table border=\"1\" class=\"dataframe\">\n",
       "  <thead>\n",
       "    <tr style=\"text-align: right;\">\n",
       "      <th></th>\n",
       "      <th>credit_hist_in_months</th>\n",
       "      <th>cb_person_bk_on_file_Y</th>\n",
       "      <th>annual_inc</th>\n",
       "      <th>dti</th>\n",
       "      <th>loan_amnt</th>\n",
       "      <th>int_rate</th>\n",
       "      <th>term_60</th>\n",
       "      <th>home_ownership_ANY</th>\n",
       "      <th>home_ownership_MORTGAGE</th>\n",
       "      <th>home_ownership_NONE</th>\n",
       "      <th>home_ownership_OTHER</th>\n",
       "      <th>home_ownership_OWN</th>\n",
       "      <th>home_ownership_RENT</th>\n",
       "      <th>loan_status</th>\n",
       "      <th>grade</th>\n",
       "    </tr>\n",
       "  </thead>\n",
       "  <tbody>\n",
       "    <tr>\n",
       "      <th>0</th>\n",
       "      <td>212</td>\n",
       "      <td>1</td>\n",
       "      <td>55000.0</td>\n",
       "      <td>18.24</td>\n",
       "      <td>2500</td>\n",
       "      <td>13.56</td>\n",
       "      <td>0</td>\n",
       "      <td>0</td>\n",
       "      <td>0</td>\n",
       "      <td>0</td>\n",
       "      <td>0</td>\n",
       "      <td>0</td>\n",
       "      <td>1</td>\n",
       "      <td>0</td>\n",
       "      <td>C</td>\n",
       "    </tr>\n",
       "    <tr>\n",
       "      <th>1</th>\n",
       "      <td>378</td>\n",
       "      <td>1</td>\n",
       "      <td>90000.0</td>\n",
       "      <td>26.52</td>\n",
       "      <td>30000</td>\n",
       "      <td>18.94</td>\n",
       "      <td>1</td>\n",
       "      <td>0</td>\n",
       "      <td>1</td>\n",
       "      <td>0</td>\n",
       "      <td>0</td>\n",
       "      <td>0</td>\n",
       "      <td>0</td>\n",
       "      <td>0</td>\n",
       "      <td>D</td>\n",
       "    </tr>\n",
       "    <tr>\n",
       "      <th>2</th>\n",
       "      <td>92</td>\n",
       "      <td>0</td>\n",
       "      <td>59280.0</td>\n",
       "      <td>10.51</td>\n",
       "      <td>5000</td>\n",
       "      <td>17.97</td>\n",
       "      <td>0</td>\n",
       "      <td>0</td>\n",
       "      <td>1</td>\n",
       "      <td>0</td>\n",
       "      <td>0</td>\n",
       "      <td>0</td>\n",
       "      <td>0</td>\n",
       "      <td>0</td>\n",
       "      <td>D</td>\n",
       "    </tr>\n",
       "    <tr>\n",
       "      <th>3</th>\n",
       "      <td>153</td>\n",
       "      <td>0</td>\n",
       "      <td>92000.0</td>\n",
       "      <td>16.74</td>\n",
       "      <td>4000</td>\n",
       "      <td>18.94</td>\n",
       "      <td>0</td>\n",
       "      <td>0</td>\n",
       "      <td>1</td>\n",
       "      <td>0</td>\n",
       "      <td>0</td>\n",
       "      <td>0</td>\n",
       "      <td>0</td>\n",
       "      <td>0</td>\n",
       "      <td>D</td>\n",
       "    </tr>\n",
       "    <tr>\n",
       "      <th>4</th>\n",
       "      <td>215</td>\n",
       "      <td>0</td>\n",
       "      <td>57250.0</td>\n",
       "      <td>26.35</td>\n",
       "      <td>30000</td>\n",
       "      <td>16.14</td>\n",
       "      <td>1</td>\n",
       "      <td>0</td>\n",
       "      <td>1</td>\n",
       "      <td>0</td>\n",
       "      <td>0</td>\n",
       "      <td>0</td>\n",
       "      <td>0</td>\n",
       "      <td>0</td>\n",
       "      <td>C</td>\n",
       "    </tr>\n",
       "  </tbody>\n",
       "</table>\n",
       "</div>"
      ],
      "text/plain": [
       "   credit_hist_in_months  cb_person_bk_on_file_Y  annual_inc    dti  \\\n",
       "0                    212                       1     55000.0  18.24   \n",
       "1                    378                       1     90000.0  26.52   \n",
       "2                     92                       0     59280.0  10.51   \n",
       "3                    153                       0     92000.0  16.74   \n",
       "4                    215                       0     57250.0  26.35   \n",
       "\n",
       "   loan_amnt  int_rate  term_60  home_ownership_ANY  home_ownership_MORTGAGE  \\\n",
       "0       2500     13.56        0                   0                        0   \n",
       "1      30000     18.94        1                   0                        1   \n",
       "2       5000     17.97        0                   0                        1   \n",
       "3       4000     18.94        0                   0                        1   \n",
       "4      30000     16.14        1                   0                        1   \n",
       "\n",
       "   home_ownership_NONE  home_ownership_OTHER  home_ownership_OWN  \\\n",
       "0                    0                     0                   0   \n",
       "1                    0                     0                   0   \n",
       "2                    0                     0                   0   \n",
       "3                    0                     0                   0   \n",
       "4                    0                     0                   0   \n",
       "\n",
       "   home_ownership_RENT  loan_status grade  \n",
       "0                    1            0     C  \n",
       "1                    0            0     D  \n",
       "2                    0            0     D  \n",
       "3                    0            0     D  \n",
       "4                    0            0     C  "
      ]
     },
     "execution_count": 24,
     "metadata": {},
     "output_type": "execute_result"
    }
   ],
   "source": [
    "# Concatenate all the processed dataframes into a single one\n",
    "processed_df = pd.concat([character_df,\n",
    "                          capacity_df,\n",
    "                          conditions_df,\n",
    "                          collateral_df,\n",
    "                          loan_status_df,\n",
    "                          raw_data['grade']], axis=1, sort=False)  # added grade for additional EDA\n",
    "processed_df.head()"
   ]
  },
  {
   "cell_type": "markdown",
   "metadata": {},
   "source": [
    "# Count total Non-Defualt and Defaulted Loans in the Data Set\n",
    "\n",
    "Where \n",
    "\n",
    "'0' is a loan that has NOT defaulted \n",
    "\n",
    "and \n",
    "\n",
    "'1' is a loan that HAS defaulted"
   ]
  },
  {
   "cell_type": "code",
   "execution_count": 25,
   "metadata": {},
   "outputs": [
    {
     "name": "stdout",
     "output_type": "stream",
     "text": [
      "0    1852346\n",
      "1     287612\n",
      "Name: loan_status, dtype: int64\n"
     ]
    }
   ],
   "source": [
    "print(processed_df.loan_status.value_counts())"
   ]
  },
  {
   "cell_type": "code",
   "execution_count": 26,
   "metadata": {
    "pycharm": {
     "name": "#%%\n"
    }
   },
   "outputs": [
    {
     "data": {
      "text/plain": [
       "Text(0, 0.5, 'Number of Loans')"
      ]
     },
     "execution_count": 26,
     "metadata": {},
     "output_type": "execute_result"
    },
    {
     "data": {
      "image/png": "[encoded data removed]",
      "text/plain": [
       "<Figure size 432x288 with 1 Axes>"
      ]
     },
     "metadata": {
      "needs_background": "light"
     },
     "output_type": "display_data"
    }
   ],
   "source": [
    "ax = processed_df.loan_status.value_counts().plot(kind='bar')\n",
    "labels = ['Non-Default', 'Default']\n",
    "ax.set_xticklabels(labels, rotation='horizontal')\n",
    "ax.set_ylabel('Number of Loans')"
   ]
  },
  {
   "cell_type": "markdown",
   "metadata": {
    "pycharm": {
     "name": "#%% md\n"
    }
   },
   "source": [
    "# EDA"
   ]
  },
  {
   "cell_type": "markdown",
   "metadata": {
    "pycharm": {
     "name": "#%% md\n"
    }
   },
   "source": [
    "## Defaults by Grade\n",
    "\n",
    "Loans rated as \"C\" show this highest instances of defaults"
   ]
  },
  {
   "cell_type": "code",
   "execution_count": 27,
   "metadata": {
    "pycharm": {
     "name": "#%%\n"
    }
   },
   "outputs": [
    {
     "data": {
      "text/plain": [
       "<matplotlib.legend.Legend at 0x216f2e2ec88>"
      ]
     },
     "execution_count": 27,
     "metadata": {},
     "output_type": "execute_result"
    },
    {
     "data": {
      "image/png": "[encoded data removed]",
      "text/plain": [
       "<Figure size 432x288 with 1 Axes>"
      ]
     },
     "metadata": {
      "needs_background": "light"
     },
     "output_type": "display_data"
    }
   ],
   "source": [
    "grade_default = pd.crosstab(processed_df['grade'], processed_df['loan_status'])\n",
    "\n",
    "fig, ax = plt.subplots()\n",
    "\n",
    "grade_default.plot.bar(legend=True, alpha=0.7, ax=ax)\n",
    "plt.title(\"Non-Default vs Default by Grade\")\n",
    "ax.legend([\"Non-Default\", \"Default\"])"
   ]
  },
  {
   "cell_type": "markdown",
   "metadata": {
    "pycharm": {
     "name": "#%% md\n"
    }
   },
   "source": [
    "# Correlation in Credit Features"
   ]
  },
  {
   "cell_type": "code",
   "execution_count": 28,
   "metadata": {
    "pycharm": {
     "name": "#%%\n"
    }
   },
   "outputs": [
    {
     "data": {
      "image/png": "[encoded data removed]",
      "text/plain": [
       "<Figure size 1440x720 with 2 Axes>"
      ]
     },
     "metadata": {
      "needs_background": "light"
     },
     "output_type": "display_data"
    }
   ],
   "source": [
    "# Sample figsize in inches\n",
    "fig, ax = plt.subplots(figsize=(20,10))\n",
    "\n",
    "# Imbalanced DataFrame Correlation\n",
    "corr = processed_df.corr()\n",
    "sns.heatmap(corr, cmap='YlGnBu', annot_kws={'size':30}, ax=ax)\n",
    "ax.set_title(\"Imbalanced Correlation Matrix\", fontsize=14)\n",
    "plt.show()"
   ]
  },
  {
   "cell_type": "markdown",
   "metadata": {
    "pycharm": {
     "name": "#%% md\n"
    }
   },
   "source": [
    "# Undersampling\n",
    "\n",
    "The process where you randomly delete some of the observations from the majority class in order to match the numbers with the minority class"
   ]
  },
  {
   "cell_type": "code",
   "execution_count": 29,
   "metadata": {},
   "outputs": [],
   "source": [
    "# Shuffle the Dataset.\n",
    "random_data = processed_df.sample(frac=1,random_state=4)\n",
    "\n",
    "# Put all the fraud class in a separate dataset.\n",
    "default_df = random_data.loc[random_data['loan_status'] == 1]\n",
    "\n",
    "#Randomly select 287612 observations from the non-fraud (majority class)\n",
    "non_default_df = random_data.loc[random_data['loan_status'] == 0].sample(n=287612,random_state=42)"
   ]
  },
  {
   "cell_type": "code",
   "execution_count": 30,
   "metadata": {
    "pycharm": {
     "name": "#%%\n"
    }
   },
   "outputs": [
    {
     "data": {
      "image/png": "[encoded data removed]",
      "text/plain": [
       "<Figure size 576x576 with 1 Axes>"
      ]
     },
     "metadata": {
      "needs_background": "light"
     },
     "output_type": "display_data"
    }
   ],
   "source": [
    "# Concatenate both dataframes again\n",
    "US_df = pd.concat([default_df, non_default_df])\n",
    "\n",
    "#plot the dataset after the undersampling\n",
    "plt.figure(figsize=(8, 8))\n",
    "sns.countplot('loan_status', data=US_df)\n",
    "plt.title('Undersampled Balanced Loan Status')\n",
    "plt.xticks(ticks=(0,1), labels=('Non-Default', 'Default'))\n",
    "plt.show()"
   ]
  },
  {
   "cell_type": "code",
   "execution_count": 31,
   "metadata": {
    "pycharm": {
     "name": "#%%\n"
    }
   },
   "outputs": [],
   "source": [
    "# Create X and y using undersampled dataframe\n",
    "X = US_df.drop(['loan_status', 'grade'], axis=1)\n",
    "y = US_df['loan_status']\n",
    "\n",
    "X_train_US, X_test_US, y_train_US, y_test_US = train_test_split(X, y, test_size=.4, random_state=123)"
   ]
  },
  {
   "cell_type": "code",
   "execution_count": 32,
   "metadata": {
    "pycharm": {
     "name": "#%%\n"
    }
   },
   "outputs": [
    {
     "name": "stdout",
     "output_type": "stream",
     "text": [
      "        loan_status  lr_pred_PD\n",
      "0                 0    0.577978\n",
      "1                 0    0.607996\n",
      "2                 0    0.372651\n",
      "3                 0    0.624674\n",
      "4                 0    0.268523\n",
      "...             ...         ...\n",
      "230085            1    0.339898\n",
      "230086            0    0.342314\n",
      "230087            0    0.499696\n",
      "230088            1    0.413670\n",
      "230089            1    0.500706\n",
      "\n",
      "[230090 rows x 2 columns]\n"
     ]
    }
   ],
   "source": [
    "# Create, train, and fit a logistic regression model\n",
    "from sklearn.linear_model import LogisticRegression\n",
    "clf_logistic = LogisticRegression(solver='lbfgs').fit(X_train_US, np.ravel(y_train_US))\n",
    "\n",
    "# Create predictions of probability for loan status using test data\n",
    "# .predict_proba creates an array of probabilities of default: [[non-defualt, default]]\n",
    "lr_preds = clf_logistic.predict_proba(X_test_US)\n",
    "\n",
    "# # Create dataframes of predictions and true labels\n",
    "lr_preds_df = pd.DataFrame(lr_preds[:,1][0:], columns = ['lr_pred_PD'])\n",
    "true_df = y_test_US\n",
    "\n",
    "# Concatenate and print the two data frames for comparison\n",
    "print(pd.concat([true_df.reset_index(drop = True), lr_preds_df], axis = 1))"
   ]
  },
  {
   "cell_type": "code",
   "execution_count": 33,
   "metadata": {
    "pycharm": {
     "name": "#%%\n"
    }
   },
   "outputs": [
    {
     "name": "stdout",
     "output_type": "stream",
     "text": [
      "Default / Non-default predictions at 60% Threshhold: \n",
      "0    169672\n",
      "1     60418\n",
      "Name: lr_pred_loan_status_60, dtype: int64\n",
      "Confusion Matrix at 60% Threshhold: \n",
      "[[95287 20046]\n",
      " [74385 40372]]\n",
      "              precision    recall  f1-score   support\n",
      "\n",
      " Non-Default       0.56      0.83      0.67    115333\n",
      "     Default       0.67      0.35      0.46    114757\n",
      "\n",
      "    accuracy                           0.59    230090\n",
      "   macro avg       0.61      0.59      0.56    230090\n",
      "weighted avg       0.61      0.59      0.57    230090\n",
      "\n"
     ]
    }
   ],
   "source": [
    "# Reassign loan status based on the threshold and print the predictions\n",
    "lr_preds_df['lr_pred_loan_status_60'] = lr_preds_df['lr_pred_PD'].apply(lambda x: 1 if x > 0.60 else 0)\n",
    "print(\"Default / Non-default predictions at 60% Threshhold: \")\n",
    "print(lr_preds_df['lr_pred_loan_status_60'].value_counts())\n",
    "\n",
    "# Print the confusion matrix\n",
    "from sklearn.metrics import confusion_matrix\n",
    "print(\"Confusion Matrix at 60% Threshhold: \")\n",
    "print(confusion_matrix(y_test_US, lr_preds_df['lr_pred_loan_status_60']))\n",
    "\n",
    "# Print the classification report\n",
    "from sklearn.metrics import classification_report\n",
    "target_names = ['Non-Default', 'Default']\n",
    "print(classification_report(y_test_US, lr_preds_df['lr_pred_loan_status_60'], target_names=target_names))"
   ]
  },
  {
   "cell_type": "code",
   "execution_count": 34,
   "metadata": {
    "pycharm": {
     "name": "#%%\n"
    }
   },
   "outputs": [
    {
     "name": "stdout",
     "output_type": "stream",
     "text": [
      "Default / Non-default predictions at 50% Threshhold: \n",
      "1    135332\n",
      "0     94758\n",
      "Name: lr_pred_loan_status_50, dtype: int64\n",
      "Confusion Matrix at 50% Threshhold: \n",
      "[[60250 55083]\n",
      " [34508 80249]]\n",
      "              precision    recall  f1-score   support\n",
      "\n",
      " Non-Default       0.64      0.52      0.57    115333\n",
      "     Default       0.59      0.70      0.64    114757\n",
      "\n",
      "    accuracy                           0.61    230090\n",
      "   macro avg       0.61      0.61      0.61    230090\n",
      "weighted avg       0.61      0.61      0.61    230090\n",
      "\n"
     ]
    }
   ],
   "source": [
    "# Reassign loan status based on the threshold and print the predictions\n",
    "lr_preds_df['lr_pred_loan_status_50'] = lr_preds_df['lr_pred_PD'].apply(lambda x: 1 if x > 0.50 else 0)\n",
    "print(\"Default / Non-default predictions at 50% Threshhold: \")\n",
    "print(lr_preds_df['lr_pred_loan_status_50'].value_counts())\n",
    "\n",
    "# Print the confusion matrix\n",
    "from sklearn.metrics import confusion_matrix\n",
    "print(\"Confusion Matrix at 50% Threshhold: \")\n",
    "print(confusion_matrix(y_test_US, lr_preds_df['lr_pred_loan_status_50']))\n",
    "\n",
    "# Print the classification report\n",
    "from sklearn.metrics import classification_report\n",
    "target_names = ['Non-Default', 'Default']\n",
    "print(classification_report(y_test_US, lr_preds_df['lr_pred_loan_status_50'], target_names=target_names))"
   ]
  },
  {
   "cell_type": "markdown",
   "metadata": {
    "pycharm": {
     "name": "#%% md\n"
    }
   },
   "source": [
    "# Plotting AUC for Logistic Regression Classification with Undersampled Data"
   ]
  },
  {
   "cell_type": "code",
   "execution_count": 35,
   "metadata": {},
   "outputs": [
    {
     "name": "stdout",
     "output_type": "stream",
     "text": [
      "0.6106262766743448\n"
     ]
    },
    {
     "data": {
      "image/png": "[encoded data removed]",
      "text/plain": [
       "<Figure size 432x288 with 1 Axes>"
      ]
     },
     "metadata": {
      "needs_background": "light"
     },
     "output_type": "display_data"
    }
   ],
   "source": [
    "# Print the accuracy score the model\n",
    "print(clf_logistic.score(X_test_US, y_test_US))\n",
    "\n",
    "# Plot the ROC curve of the probabilities of default\n",
    "from sklearn.metrics import roc_curve\n",
    "\n",
    "lr_prob_default = lr_preds[:, 1]\n",
    "fallout, sensitivity, thresholds = roc_curve(y_test_US, lr_prob_default)\n",
    "plt.plot(fallout, sensitivity, color = 'darkorange')\n",
    "plt.plot([0, 1], [0, 1], linestyle='--')\n",
    "plt.title(\"ROC Chart for LR on PD\")\n",
    "plt.xlabel(\"Fall-out\")\n",
    "plt.ylabel(\"Sensitivity\")\n",
    "plt.show()\n",
    "\n",
    "# Compute the AUC and store it in a variable\n",
    "from sklearn.metrics import roc_auc_score\n",
    "\n",
    "lr_auc = roc_auc_score(y_test_US, lr_prob_default)"
   ]
  },
  {
   "cell_type": "markdown",
   "metadata": {
    "pycharm": {
     "name": "#%% md\n"
    }
   },
   "source": [
    "# Oversampling\n",
    "\n",
    "The process of generating synthetic data that tries to randomly generate a sample of the attributes from observations in the minority class. There are a number of methods used to oversample a dataset for a typical classification problem. The most common technique is called SMOTE (Synthetic Minority Over-sampling Technique)"
   ]
  },
  {
   "cell_type": "code",
   "execution_count": 36,
   "metadata": {
    "pycharm": {
     "name": "#%%\n"
    }
   },
   "outputs": [],
   "source": [
    "# Create X and y using processed_df\n",
    "\n",
    "X = processed_df.drop(['loan_status', 'grade'], axis=1)\n",
    "y = processed_df['loan_status']\n",
    "\n",
    "X_train, X_test, y_train, y_test = train_test_split(X, y, test_size=.4, random_state=123)"
   ]
  },
  {
   "cell_type": "code",
   "execution_count": 37,
   "metadata": {},
   "outputs": [],
   "source": [
    "from imblearn.over_sampling import SMOTE\n",
    "\n",
    "# Resample the minority class. You can change the strategy to 'auto' if you are not sure.\n",
    "sm = SMOTE(sampling_strategy='minority', random_state=7)\n",
    "\n",
    "# Fit the model to generate the data.\n",
    "oversampled_trainX, oversampled_trainY = sm.fit_sample(X_train, y_train)\n",
    "oversampled_train = pd.concat([pd.DataFrame(oversampled_trainY), pd.DataFrame(oversampled_trainX)], axis=1)\n",
    "oversampled_train.columns = processed_df.drop(['grade'], axis=1).columns"
   ]
  },
  {
   "cell_type": "code",
   "execution_count": 38,
   "metadata": {
    "scrolled": false
   },
   "outputs": [
    {
     "data": {
      "image/png": "[encoded data removed]",
      "text/plain": [
       "<Figure size 1440x720 with 2 Axes>"
      ]
     },
     "metadata": {
      "needs_background": "light"
     },
     "output_type": "display_data"
    }
   ],
   "source": [
    "# Sample figsize in inches\n",
    "fig, ax = plt.subplots(figsize=(20,10))\n",
    "\n",
    "# Imbalanced DataFrame Correlation\n",
    "corr = oversampled_train.corr()\n",
    "sns.heatmap(corr, cmap='YlGnBu', annot_kws={'size':30}, ax=ax)\n",
    "ax.set_title(\"Imbalanced Correlation Matrix\", fontsize=14)\n",
    "plt.show()"
   ]
  },
  {
   "cell_type": "markdown",
   "metadata": {
    "pycharm": {
     "name": "#%% md\n"
    }
   },
   "source": [
    "# Creating, Training, and Fitting a Logistic Regression Classfier Model to Oversampled Data"
   ]
  },
  {
   "cell_type": "code",
   "execution_count": 39,
   "metadata": {},
   "outputs": [
    {
     "name": "stdout",
     "output_type": "stream",
     "text": [
      "        loan_status  lr_pred_PD\n",
      "0                 0    0.646097\n",
      "1                 0    0.458209\n",
      "2                 0    0.447492\n",
      "3                 0    0.463861\n",
      "4                 0    0.536501\n",
      "...             ...         ...\n",
      "855979            1    0.455848\n",
      "855980            0    0.528766\n",
      "855981            0    0.582305\n",
      "855982            1    0.604072\n",
      "855983            1    0.461020\n",
      "\n",
      "[855984 rows x 2 columns]\n"
     ]
    }
   ],
   "source": [
    "# Create, train, and fit a logistic regression model\n",
    "from sklearn.linear_model import LogisticRegression\n",
    "clf_logistic = LogisticRegression(solver='lbfgs').fit(oversampled_trainX, np.ravel(oversampled_trainY))\n",
    "\n",
    "# Create predictions of probability for loan status using test data\n",
    "# .predict_proba creates an array of probabilities of default: [[non-defualt, default]]\n",
    "lr_preds = clf_logistic.predict_proba(X_test)\n",
    "\n",
    "# # Create dataframes of predictions and true labels\n",
    "lr_preds_df = pd.DataFrame(lr_preds[:,1][0:], columns = ['lr_pred_PD'])\n",
    "true_df = y_test\n",
    "\n",
    "# Concatenate and print the two data frames for comparison\n",
    "print(pd.concat([true_df.reset_index(drop = True), lr_preds_df], axis = 1))"
   ]
  },
  {
   "cell_type": "code",
   "execution_count": 40,
   "metadata": {
    "pycharm": {
     "name": "#%%\n"
    }
   },
   "outputs": [
    {
     "name": "stdout",
     "output_type": "stream",
     "text": [
      "Non-Default / Default predictions at 60% Threshhold: \n",
      "0    673528\n",
      "1    182456\n",
      "Name: lr_pred_loan_status_60, dtype: int64\n",
      "Confusion Matrix at 60% Threshhold: \n",
      "[[600959 140229]\n",
      " [ 72569  42227]]\n",
      "              precision    recall  f1-score   support\n",
      "\n",
      " Non-Default       0.89      0.81      0.85    741188\n",
      "     Default       0.23      0.37      0.28    114796\n",
      "\n",
      "    accuracy                           0.75    855984\n",
      "   macro avg       0.56      0.59      0.57    855984\n",
      "weighted avg       0.80      0.75      0.77    855984\n",
      "\n"
     ]
    }
   ],
   "source": [
    "# Reassign loan status based on the threshold and print the predictions\n",
    "lr_preds_df['lr_pred_loan_status_60'] = lr_preds_df['lr_pred_PD'].apply(lambda x: 1 if x > 0.60 else 0)\n",
    "print(\"Non-Default / Default predictions at 60% Threshhold: \")\n",
    "print(lr_preds_df['lr_pred_loan_status_60'].value_counts())\n",
    "\n",
    "# Print the confusion matrix\n",
    "from sklearn.metrics import confusion_matrix\n",
    "print(\"Confusion Matrix at 60% Threshhold: \")\n",
    "print(confusion_matrix(y_test, lr_preds_df['lr_pred_loan_status_60']))\n",
    "\n",
    "# Print the classification report\n",
    "from sklearn.metrics import classification_report\n",
    "target_names = ['Non-Default', 'Default']\n",
    "print(classification_report(y_test, lr_preds_df['lr_pred_loan_status_60'], target_names=target_names))"
   ]
  },
  {
   "cell_type": "code",
   "execution_count": 41,
   "metadata": {},
   "outputs": [
    {
     "name": "stdout",
     "output_type": "stream",
     "text": [
      "Non-Default / Default t predictions at 50% Threshhold: \n",
      "0    433611\n",
      "1    422373\n",
      "Name: lr_pred_loan_status_50, dtype: int64\n",
      "Confusion Matrix at 50% Threshhold: \n",
      "[[397196 343992]\n",
      " [ 36415  78381]]\n",
      "              precision    recall  f1-score   support\n",
      "\n",
      " Non-Default       0.92      0.54      0.68    741188\n",
      "     Default       0.19      0.68      0.29    114796\n",
      "\n",
      "    accuracy                           0.56    855984\n",
      "   macro avg       0.55      0.61      0.48    855984\n",
      "weighted avg       0.82      0.56      0.62    855984\n",
      "\n"
     ]
    }
   ],
   "source": [
    "# Reassign loan status based on the threshold and print the predictions\n",
    "lr_preds_df['lr_pred_loan_status_50'] = lr_preds_df['lr_pred_PD'].apply(lambda x: 1 if x > 0.50 else 0)\n",
    "print(\"Non-Default / Default t predictions at 50% Threshhold: \")\n",
    "print(lr_preds_df['lr_pred_loan_status_50'].value_counts())\n",
    "\n",
    "# Print the confusion matrix\n",
    "from sklearn.metrics import confusion_matrix\n",
    "print(\"Confusion Matrix at 50% Threshhold: \")\n",
    "print(confusion_matrix(y_test, lr_preds_df['lr_pred_loan_status_50']))\n",
    "\n",
    "# Print the classification report\n",
    "from sklearn.metrics import classification_report\n",
    "target_names = ['Non-Default', 'Default']\n",
    "print(classification_report(y_test, lr_preds_df['lr_pred_loan_status_50'], target_names=target_names))"
   ]
  },
  {
   "cell_type": "code",
   "execution_count": 42,
   "metadata": {},
   "outputs": [
    {
     "name": "stdout",
     "output_type": "stream",
     "text": [
      "0.5555909923549973\n"
     ]
    },
    {
     "data": {
      "image/png": "[encoded data removed]",
      "text/plain": [
       "<Figure size 432x288 with 1 Axes>"
      ]
     },
     "metadata": {
      "needs_background": "light"
     },
     "output_type": "display_data"
    }
   ],
   "source": [
    "# Print the accuracy score the model\n",
    "print(clf_logistic.score(X_test, y_test))\n",
    "\n",
    "# Plot the ROC curve of the probabilities of default\n",
    "from sklearn.metrics import roc_curve\n",
    "\n",
    "lr_prob_default = lr_preds[:, 1]\n",
    "fallout, sensitivity, thresholds = roc_curve(y_test, lr_prob_default)\n",
    "plt.plot(fallout, sensitivity, color = 'darkorange')\n",
    "plt.plot([0, 1], [0, 1], linestyle='--')\n",
    "plt.title(\"ROC Chart for LR on PD\")\n",
    "plt.xlabel(\"Fall-out\")\n",
    "plt.ylabel(\"Sensitivity\")\n",
    "plt.show()\n",
    "\n",
    "# Compute the AUC and store it in a variable\n",
    "from sklearn.metrics import roc_auc_score\n",
    "\n",
    "lr_auc = roc_auc_score(y_test, lr_prob_default)"
   ]
  },
  {
   "cell_type": "markdown",
   "metadata": {
    "pycharm": {
     "name": "#%% md\n"
    }
   },
   "source": [
    "# Creating, Training, and Fitting a Balanced Bagging Classfier Model to Oversampled Data"
   ]
  },
  {
   "cell_type": "code",
   "execution_count": 43,
   "metadata": {},
   "outputs": [],
   "source": [
    "from imblearn.ensemble import BalancedBaggingClassifier\n",
    "from sklearn.tree import DecisionTreeClassifier\n",
    "\n",
    "# Create an object of the classifier and fit oversampled training data to the object\n",
    "bbc = BalancedBaggingClassifier(base_estimator=DecisionTreeClassifier(),\n",
    "                                sampling_strategy='auto',\n",
    "                                replacement=False,\n",
    "                                random_state=0).fit(oversampled_trainX, np.ravel(oversampled_trainY))\n",
    "\n",
    "# Create predictions of probability for loan status using test data\n",
    "bbc_preds = bbc.predict_proba(X_test)"
   ]
  },
  {
   "cell_type": "code",
   "execution_count": 44,
   "metadata": {
    "pycharm": {
     "name": "#%%\n"
    }
   },
   "outputs": [
    {
     "name": "stdout",
     "output_type": "stream",
     "text": [
      "        loan_status  bbc_pred_PD\n",
      "0                 0          0.5\n",
      "1                 0          0.0\n",
      "2                 0          0.1\n",
      "3                 0          0.0\n",
      "4                 0          0.1\n",
      "...             ...          ...\n",
      "855979            1          0.4\n",
      "855980            0          0.3\n",
      "855981            0          0.0\n",
      "855982            1          0.6\n",
      "855983            1          0.3\n",
      "\n",
      "[855984 rows x 2 columns]\n"
     ]
    }
   ],
   "source": [
    "# Create dataframes of predictions and true labels\n",
    "bbc_preds_df = pd.DataFrame(bbc_preds[:,1][0:], columns = ['bbc_pred_PD'])\n",
    "true_df = y_test\n",
    "\n",
    "# Concatenate and print the two data frames for comparison\n",
    "print(pd.concat([true_df.reset_index(drop = True), bbc_preds_df], axis = 1))"
   ]
  },
  {
   "cell_type": "code",
   "execution_count": 45,
   "metadata": {
    "pycharm": {
     "name": "#%%\n"
    }
   },
   "outputs": [
    {
     "name": "stdout",
     "output_type": "stream",
     "text": [
      "Default / Non-default predictions at 60% Threshhold: \n",
      "0    834738\n",
      "1     21246\n",
      "Name: bbc_pred_loan_status_60, dtype: int64\n",
      "Confusion Matrix at 60% Threshhold: \n",
      "[[725951  15237]\n",
      " [108787   6009]]\n",
      "              precision    recall  f1-score   support\n",
      "\n",
      " Non-Default       0.87      0.98      0.92    741188\n",
      "     Default       0.28      0.05      0.09    114796\n",
      "\n",
      "    accuracy                           0.86    855984\n",
      "   macro avg       0.58      0.52      0.50    855984\n",
      "weighted avg       0.79      0.86      0.81    855984\n",
      "\n"
     ]
    }
   ],
   "source": [
    "# Reassign loan status based on the threshold and print the predictions\n",
    "bbc_preds_df['bbc_pred_loan_status_60'] = bbc_preds_df['bbc_pred_PD'].apply(lambda x: 1 if x > 0.60 else 0)\n",
    "print(\"Default / Non-default predictions at 60% Threshhold: \")\n",
    "print(bbc_preds_df['bbc_pred_loan_status_60'].value_counts())\n",
    "\n",
    "# Print the confusion matrix\n",
    "from sklearn.metrics import confusion_matrix\n",
    "print(\"Confusion Matrix at 60% Threshhold: \")\n",
    "print(confusion_matrix(y_test, bbc_preds_df['bbc_pred_loan_status_60']))\n",
    "\n",
    "# Print the classification report\n",
    "from sklearn.metrics import classification_report\n",
    "target_names = ['Non-Default', 'Default']\n",
    "print(classification_report(y_test, bbc_preds_df['bbc_pred_loan_status_60'], target_names=target_names))\n"
   ]
  },
  {
   "cell_type": "code",
   "execution_count": 46,
   "metadata": {},
   "outputs": [
    {
     "name": "stdout",
     "output_type": "stream",
     "text": [
      "Default / Non-default predictions at 50% Threshhold: \n",
      "0    813170\n",
      "1     42814\n",
      "Name: bbc_pred_loan_status_50, dtype: int64\n",
      "Confusion Matrix at 50% Threshhold: \n",
      "[[709912  31276]\n",
      " [103258  11538]]\n",
      "              precision    recall  f1-score   support\n",
      "\n",
      " Non-Default       0.87      0.96      0.91    741188\n",
      "     Default       0.27      0.10      0.15    114796\n",
      "\n",
      "    accuracy                           0.84    855984\n",
      "   macro avg       0.57      0.53      0.53    855984\n",
      "weighted avg       0.79      0.84      0.81    855984\n",
      "\n"
     ]
    }
   ],
   "source": [
    "# Reassign loan status based on the threshold and print the predictions\n",
    "bbc_preds_df['bbc_pred_loan_status_50'] = bbc_preds_df['bbc_pred_PD'].apply(lambda x: 1 if x > 0.50 else 0)\n",
    "print(\"Default / Non-default predictions at 50% Threshhold: \")\n",
    "print(bbc_preds_df['bbc_pred_loan_status_50'].value_counts())\n",
    "\n",
    "# Print the confusion matrix\n",
    "from sklearn.metrics import confusion_matrix\n",
    "print(\"Confusion Matrix at 50% Threshhold: \")\n",
    "print(confusion_matrix(y_test, bbc_preds_df['bbc_pred_loan_status_50']))\n",
    "\n",
    "# Print the classification report\n",
    "from sklearn.metrics import classification_report\n",
    "target_names = ['Non-Default', 'Default']\n",
    "print(classification_report(y_test, bbc_preds_df['bbc_pred_loan_status_50'], target_names=target_names))"
   ]
  },
  {
   "cell_type": "markdown",
   "metadata": {},
   "source": [
    "# Plotting AUC for a Balanced Bagging Classfier Model"
   ]
  },
  {
   "cell_type": "code",
   "execution_count": 47,
   "metadata": {
    "pycharm": {
     "name": "#%%\n"
    }
   },
   "outputs": [
    {
     "name": "stdout",
     "output_type": "stream",
     "text": [
      "0.8428311744144751\n"
     ]
    },
    {
     "data": {
      "image/png": "[encoded data removed]",
      "text/plain": [
       "<Figure size 432x288 with 1 Axes>"
      ]
     },
     "metadata": {
      "needs_background": "light"
     },
     "output_type": "display_data"
    }
   ],
   "source": [
    "\n",
    "\n",
    "# Print the accuracy score the model\n",
    "print(bbc.score(X_test, y_test))\n",
    "\n",
    "# Plot the ROC curve of the probabilities of default\n",
    "from sklearn.metrics import roc_curve\n",
    "\n",
    "bbc_prob_default = bbc_preds[:, 1]\n",
    "fallout, sensitivity, thresholds = roc_curve(y_test, bbc_prob_default)\n",
    "plt.plot(fallout, sensitivity, color = 'darkorange')\n",
    "plt.plot([0, 1], [0, 1], linestyle='--')\n",
    "plt.title(\"ROC Chart for BBC on PD\")\n",
    "plt.xlabel(\"Fall-out\")\n",
    "plt.ylabel(\"Sensitivity\")\n",
    "plt.show()\n",
    "\n",
    "# Compute the AUC and store it in a variable\n",
    "from sklearn.metrics import roc_auc_score\n",
    "\n",
    "bbc_auc = roc_auc_score(y_test, bbc_prob_default)"
   ]
  },
  {
   "cell_type": "markdown",
   "metadata": {},
   "source": [
    "# Creating, Training, and Fitting a GBT Model"
   ]
  },
  {
   "cell_type": "code",
   "execution_count": 48,
   "metadata": {
    "pycharm": {
     "name": "#%%\n"
    }
   },
   "outputs": [
    {
     "name": "stdout",
     "output_type": "stream",
     "text": [
      "        loan_status  gbt_pred_PD\n",
      "0                 0     0.374676\n",
      "1                 0     0.063296\n",
      "2                 0     0.095098\n",
      "3                 0     0.123335\n",
      "4                 0     0.165411\n",
      "...             ...          ...\n",
      "855979            1     0.180467\n",
      "855980            0     0.160780\n",
      "855981            0     0.130536\n",
      "855982            1     0.514294\n",
      "855983            1     0.249285\n",
      "\n",
      "[855984 rows x 2 columns]\n"
     ]
    }
   ],
   "source": [
    "# Train a model\n",
    "import xgboost as xgb\n",
    "clf_gbt = xgb.XGBClassifier().fit(oversampled_trainX, np.ravel(oversampled_trainY))\n",
    "\n",
    "# Predict with a model\n",
    "# .predict_proba creates an array of probabilities of default: [[non-defualt, default]]\n",
    "gbt_preds = clf_gbt.predict_proba(X_test)\n",
    "\n",
    "# Create dataframes of first five predictions, and first five true labels\n",
    "gbt_preds_df = pd.DataFrame(gbt_preds[:,1][0:], columns = ['gbt_pred_PD'])\n",
    "true_df = y_test\n",
    "\n",
    "# Concatenate and print the two data frames for comparison\n",
    "print(pd.concat([true_df.reset_index(drop = True), gbt_preds_df], axis = 1))"
   ]
  },
  {
   "cell_type": "code",
   "execution_count": 49,
   "metadata": {
    "pycharm": {
     "name": "#%%\n"
    }
   },
   "outputs": [
    {
     "name": "stdout",
     "output_type": "stream",
     "text": [
      "Non-Default / Default  predictions at 60% Threshhold: \n",
      "0    842382\n",
      "1     13602\n",
      "Name: gbt_pred_loan_status_60, dtype: int64\n",
      "Confusion Matrix at 60% Threshhold: \n",
      "[[731851   9337]\n",
      " [110531   4265]]\n",
      "              precision    recall  f1-score   support\n",
      "\n",
      " Non-Default       0.87      0.99      0.92    741188\n",
      "     Default       0.31      0.04      0.07    114796\n",
      "\n",
      "    accuracy                           0.86    855984\n",
      "   macro avg       0.59      0.51      0.50    855984\n",
      "weighted avg       0.79      0.86      0.81    855984\n",
      "\n"
     ]
    }
   ],
   "source": [
    "# Reassign loan status based on the threshold and print the predictions\n",
    "gbt_preds_df['gbt_pred_loan_status_60'] = gbt_preds_df['gbt_pred_PD'].apply(lambda x: 1 if x > 0.60 else 0)\n",
    "print(\"Non-Default / Default  predictions at 60% Threshhold: \")\n",
    "print(gbt_preds_df['gbt_pred_loan_status_60'].value_counts())\n",
    "\n",
    "# Print the confusion matrix\n",
    "print(\"Confusion Matrix at 60% Threshhold: \")\n",
    "print(confusion_matrix(y_test, gbt_preds_df['gbt_pred_loan_status_60']))\n",
    "\n",
    "# Print the classification report\n",
    "target_names = ['Non-Default', 'Default']\n",
    "print(classification_report(y_test, gbt_preds_df['gbt_pred_loan_status_60'], target_names=target_names))"
   ]
  },
  {
   "cell_type": "code",
   "execution_count": 50,
   "metadata": {
    "pycharm": {
     "name": "#%%\n"
    }
   },
   "outputs": [
    {
     "name": "stdout",
     "output_type": "stream",
     "text": [
      "Non-Default / Default predictions at 50% Threshhold: \n",
      "0    820261\n",
      "1     35723\n",
      "Name: gbt_pred_loan_status_50, dtype: int64\n",
      "Confusion Matrix at 50% Threshhold: \n",
      "[[716890  24298]\n",
      " [103371  11425]]\n",
      "              precision    recall  f1-score   support\n",
      "\n",
      " Non-Default       0.87      0.97      0.92    741188\n",
      "     Default       0.32      0.10      0.15    114796\n",
      "\n",
      "    accuracy                           0.85    855984\n",
      "   macro avg       0.60      0.53      0.54    855984\n",
      "weighted avg       0.80      0.85      0.82    855984\n",
      "\n"
     ]
    }
   ],
   "source": [
    "# Reassign loan status based on the threshold and print the predictions\n",
    "gbt_preds_df['gbt_pred_loan_status_50'] = gbt_preds_df['gbt_pred_PD'].apply(lambda x: 1 if x > 0.50 else 0)\n",
    "print(\"Non-Default / Default predictions at 50% Threshhold: \")\n",
    "print(gbt_preds_df['gbt_pred_loan_status_50'].value_counts())\n",
    "\n",
    "# Print the confusion matrix\n",
    "print(\"Confusion Matrix at 50% Threshhold: \")\n",
    "print(confusion_matrix(y_test, gbt_preds_df['gbt_pred_loan_status_50']))\n",
    "\n",
    "# Print the classification report\n",
    "target_names = ['Non-Default', 'Default']\n",
    "print(classification_report(y_test, gbt_preds_df['gbt_pred_loan_status_50'], target_names=target_names))"
   ]
  },
  {
   "cell_type": "markdown",
   "metadata": {},
   "source": [
    "# Plotting AUC for GBT Classifier Model"
   ]
  },
  {
   "cell_type": "code",
   "execution_count": 51,
   "metadata": {
    "pycharm": {
     "name": "#%%\n"
    }
   },
   "outputs": [
    {
     "name": "stdout",
     "output_type": "stream",
     "text": [
      "0.8508511841342828\n"
     ]
    },
    {
     "data": {
      "image/png": "[encoded data removed]",
      "text/plain": [
       "<Figure size 432x288 with 1 Axes>"
      ]
     },
     "metadata": {
      "needs_background": "light"
     },
     "output_type": "display_data"
    }
   ],
   "source": [
    "# Print the accuracy score the model\n",
    "print(clf_gbt.score(X_test, y_test))\n",
    "\n",
    "# Plot the ROC curve of the probabilities of default\n",
    "from sklearn.metrics import roc_curve\n",
    "\n",
    "xgb_prob_default = gbt_preds[:, 1]\n",
    "fallout, sensitivity, thresholds = roc_curve(y_test, xgb_prob_default)\n",
    "plt.plot(fallout, sensitivity, color = 'darkorange')\n",
    "plt.plot([0, 1], [0, 1], linestyle='--')\n",
    "plt.title(\"ROC Chart for XGB on PD\")\n",
    "plt.xlabel(\"Fall-out\")\n",
    "plt.ylabel(\"Sensitivity\")\n",
    "plt.show()\n",
    "\n",
    "# Compute the AUC and store it in a variable\n",
    "from sklearn.metrics import roc_auc_score\n",
    "\n",
    "xgb_auc = roc_auc_score(y_test, xgb_prob_default)\n"
   ]
  },
  {
   "cell_type": "markdown",
   "metadata": {},
   "source": [
    "# Modeling Five C's Portfolio Expected Loss using Balanced Bagging Classifier and XGB Classfier predicted probabilities of default"
   ]
  },
  {
   "cell_type": "code",
   "execution_count": 52,
   "metadata": {
    "pycharm": {
     "name": "#%%\n"
    }
   },
   "outputs": [
    {
     "data": {
      "text/html": [
       "<div>\n",
       "<style scoped>\n",
       "    .dataframe tbody tr th:only-of-type {\n",
       "        vertical-align: middle;\n",
       "    }\n",
       "\n",
       "    .dataframe tbody tr th {\n",
       "        vertical-align: top;\n",
       "    }\n",
       "\n",
       "    .dataframe thead th {\n",
       "        text-align: right;\n",
       "    }\n",
       "</style>\n",
       "<table border=\"1\" class=\"dataframe\">\n",
       "  <thead>\n",
       "    <tr style=\"text-align: right;\">\n",
       "      <th></th>\n",
       "      <th>gbt_prob_default</th>\n",
       "      <th>bbc_prob_default</th>\n",
       "      <th>lr_prob_default</th>\n",
       "      <th>lgd</th>\n",
       "      <th>loan_amnt</th>\n",
       "    </tr>\n",
       "  </thead>\n",
       "  <tbody>\n",
       "    <tr>\n",
       "      <th>1629765</th>\n",
       "      <td>0.374676</td>\n",
       "      <td>0.5</td>\n",
       "      <td>0.646097</td>\n",
       "      <td>1</td>\n",
       "      <td>14000</td>\n",
       "    </tr>\n",
       "    <tr>\n",
       "      <th>1066216</th>\n",
       "      <td>0.063296</td>\n",
       "      <td>0.0</td>\n",
       "      <td>0.458209</td>\n",
       "      <td>1</td>\n",
       "      <td>7600</td>\n",
       "    </tr>\n",
       "    <tr>\n",
       "      <th>548208</th>\n",
       "      <td>0.095098</td>\n",
       "      <td>0.1</td>\n",
       "      <td>0.447492</td>\n",
       "      <td>1</td>\n",
       "      <td>20000</td>\n",
       "    </tr>\n",
       "    <tr>\n",
       "      <th>1172507</th>\n",
       "      <td>0.123335</td>\n",
       "      <td>0.0</td>\n",
       "      <td>0.463861</td>\n",
       "      <td>1</td>\n",
       "      <td>12000</td>\n",
       "    </tr>\n",
       "    <tr>\n",
       "      <th>1714521</th>\n",
       "      <td>0.165411</td>\n",
       "      <td>0.1</td>\n",
       "      <td>0.536501</td>\n",
       "      <td>1</td>\n",
       "      <td>13000</td>\n",
       "    </tr>\n",
       "  </tbody>\n",
       "</table>\n",
       "</div>"
      ],
      "text/plain": [
       "         gbt_prob_default  bbc_prob_default  lr_prob_default  lgd  loan_amnt\n",
       "1629765          0.374676               0.5         0.646097    1      14000\n",
       "1066216          0.063296               0.0         0.458209    1       7600\n",
       "548208           0.095098               0.1         0.447492    1      20000\n",
       "1172507          0.123335               0.0         0.463861    1      12000\n",
       "1714521          0.165411               0.1         0.536501    1      13000"
      ]
     },
     "execution_count": 52,
     "metadata": {},
     "output_type": "execute_result"
    }
   ],
   "source": [
    "# Creating a portfolio dataframe\n",
    "portfolio_5c = pd.DataFrame(gbt_preds[:,1][0:], columns = ['gbt_prob_default'])\n",
    "portfolio_5c.index = X_test.index\n",
    "portfolio_5c['bbc_prob_default'] = bbc_preds[:,1][0:]\n",
    "portfolio_5c['lr_prob_default'] = lr_preds[:,1][0:]\n",
    "portfolio_5c['lgd'] = 1  #  Assumes that given a default, entire loan is a loss with no recoverable amounts\n",
    "portfolio_5c['loan_amnt'] = X_test.loan_amnt\n",
    "portfolio_5c.head()"
   ]
  },
  {
   "cell_type": "code",
   "execution_count": 53,
   "metadata": {
    "pycharm": {
     "name": "#%%\n"
    }
   },
   "outputs": [
    {
     "name": "stdout",
     "output_type": "stream",
     "text": [
      "Portfolio size: $12,649,356,475.00\n",
      "BBC expected loss: $2,199,313,102.50\n",
      "GBT expected loss: $2,695,019,391.91\n",
      "LR expected loss: $6,146,165,704.52\n"
     ]
    },
    {
     "data": {
      "text/html": [
       "<div>\n",
       "<style scoped>\n",
       "    .dataframe tbody tr th:only-of-type {\n",
       "        vertical-align: middle;\n",
       "    }\n",
       "\n",
       "    .dataframe tbody tr th {\n",
       "        vertical-align: top;\n",
       "    }\n",
       "\n",
       "    .dataframe thead th {\n",
       "        text-align: right;\n",
       "    }\n",
       "</style>\n",
       "<table border=\"1\" class=\"dataframe\">\n",
       "  <thead>\n",
       "    <tr style=\"text-align: right;\">\n",
       "      <th></th>\n",
       "      <th>gbt_prob_default</th>\n",
       "      <th>bbc_prob_default</th>\n",
       "      <th>lr_prob_default</th>\n",
       "      <th>lgd</th>\n",
       "      <th>loan_amnt</th>\n",
       "      <th>gbt_expected_loss</th>\n",
       "      <th>bbc_expected_loss</th>\n",
       "      <th>lr_expected_loss</th>\n",
       "    </tr>\n",
       "  </thead>\n",
       "  <tbody>\n",
       "    <tr>\n",
       "      <th>1629765</th>\n",
       "      <td>0.374676</td>\n",
       "      <td>0.5</td>\n",
       "      <td>0.646097</td>\n",
       "      <td>1</td>\n",
       "      <td>14000</td>\n",
       "      <td>5245.468020</td>\n",
       "      <td>7000.0</td>\n",
       "      <td>9045.352072</td>\n",
       "    </tr>\n",
       "    <tr>\n",
       "      <th>1066216</th>\n",
       "      <td>0.063296</td>\n",
       "      <td>0.0</td>\n",
       "      <td>0.458209</td>\n",
       "      <td>1</td>\n",
       "      <td>7600</td>\n",
       "      <td>481.052923</td>\n",
       "      <td>0.0</td>\n",
       "      <td>3482.391922</td>\n",
       "    </tr>\n",
       "    <tr>\n",
       "      <th>548208</th>\n",
       "      <td>0.095098</td>\n",
       "      <td>0.1</td>\n",
       "      <td>0.447492</td>\n",
       "      <td>1</td>\n",
       "      <td>20000</td>\n",
       "      <td>1901.953071</td>\n",
       "      <td>2000.0</td>\n",
       "      <td>8949.833811</td>\n",
       "    </tr>\n",
       "    <tr>\n",
       "      <th>1172507</th>\n",
       "      <td>0.123335</td>\n",
       "      <td>0.0</td>\n",
       "      <td>0.463861</td>\n",
       "      <td>1</td>\n",
       "      <td>12000</td>\n",
       "      <td>1480.022192</td>\n",
       "      <td>0.0</td>\n",
       "      <td>5566.332970</td>\n",
       "    </tr>\n",
       "    <tr>\n",
       "      <th>1714521</th>\n",
       "      <td>0.165411</td>\n",
       "      <td>0.1</td>\n",
       "      <td>0.536501</td>\n",
       "      <td>1</td>\n",
       "      <td>13000</td>\n",
       "      <td>2150.338292</td>\n",
       "      <td>1300.0</td>\n",
       "      <td>6974.510699</td>\n",
       "    </tr>\n",
       "  </tbody>\n",
       "</table>\n",
       "</div>"
      ],
      "text/plain": [
       "         gbt_prob_default  bbc_prob_default  lr_prob_default  lgd  loan_amnt  \\\n",
       "1629765          0.374676               0.5         0.646097    1      14000   \n",
       "1066216          0.063296               0.0         0.458209    1       7600   \n",
       "548208           0.095098               0.1         0.447492    1      20000   \n",
       "1172507          0.123335               0.0         0.463861    1      12000   \n",
       "1714521          0.165411               0.1         0.536501    1      13000   \n",
       "\n",
       "         gbt_expected_loss  bbc_expected_loss  lr_expected_loss  \n",
       "1629765        5245.468020             7000.0       9045.352072  \n",
       "1066216         481.052923                0.0       3482.391922  \n",
       "548208         1901.953071             2000.0       8949.833811  \n",
       "1172507        1480.022192                0.0       5566.332970  \n",
       "1714521        2150.338292             1300.0       6974.510699  "
      ]
     },
     "execution_count": 53,
     "metadata": {},
     "output_type": "execute_result"
    }
   ],
   "source": [
    "# Create expected loss columns for each model using the formula\n",
    "portfolio_5c['gbt_expected_loss'] = portfolio_5c['gbt_prob_default'] * portfolio_5c['lgd'] * portfolio_5c['loan_amnt']\n",
    "portfolio_5c['bbc_expected_loss'] = portfolio_5c['bbc_prob_default'] * portfolio_5c['lgd'] * portfolio_5c['loan_amnt']\n",
    "portfolio_5c['lr_expected_loss'] = portfolio_5c['lr_prob_default'] * portfolio_5c['lgd'] * portfolio_5c['loan_amnt']\n",
    "\n",
    "# Print the total portfolio size\n",
    "print('Portfolio size: $' + \"{:,.2f}\".format(np.sum(portfolio_5c['loan_amnt'])))\n",
    "\n",
    "# Print the sum of the expected loss for bbc\n",
    "print('BBC expected loss: $' + \"{:,.2f}\".format(np.sum(portfolio_5c['bbc_expected_loss'])))\n",
    "\n",
    "# Print the sum of the expected loss for gbt\n",
    "print('GBT expected loss: $' + \"{:,.2f}\".format(np.sum(portfolio_5c['gbt_expected_loss'])))\n",
    "\n",
    "# Print the sum of the expected loss for lr \n",
    "print('LR expected loss: $' + \"{:,.2f}\".format(np.sum(portfolio_5c['lr_expected_loss'])))\n",
    "\n",
    "# Print portfolio first five rows\n",
    "portfolio_5c.head()\n"
   ]
  },
  {
   "cell_type": "code",
   "execution_count": null,
   "metadata": {
    "pycharm": {
     "name": "#%%\n"
    }
   },
   "outputs": [],
   "source": []
  }
 ],
 "metadata": {
  "kernelspec": {
   "display_name": "Python 3",
   "language": "python",
   "name": "python3"
  },
  "language_info": {
   "codemirror_mode": {
    "name": "ipython",
    "version": 3
   },
   "file_extension": ".py",
   "mimetype": "text/x-python",
   "name": "python",
   "nbconvert_exporter": "python",
   "pygments_lexer": "ipython3",
   "version": "3.7.4"
  }
 },
 "nbformat": 4,
 "nbformat_minor": 2
}
