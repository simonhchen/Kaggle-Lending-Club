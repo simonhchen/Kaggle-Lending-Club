{
 "cells": [
  {
   "cell_type": "code",
   "execution_count": 1,
   "metadata": {},
   "outputs": [],
   "source": [
    "# This Python 3 environment comes with many helpful analytics libraries installed\n",
    "# It is defined by the kaggle/python docker image: https://github.com/kaggle/docker-python\n",
    "# For example, here's several helpful packages to load in \n",
    "\n",
    "import numpy as np # linear algebra\n",
    "import pandas as pd # data processing, CSV file I/O (e.g. pd.read_csv)\n",
    "import matplotlib.pyplot as plt\n",
    "import seaborn as sns\n",
    "import sqlite3\n",
    "\n",
    "from sklearn.model_selection import train_test_split\n",
    "from sklearn.linear_model import LogisticRegression\n",
    "from sklearn.dummy import DummyClassifier\n",
    "from sklearn.metrics import accuracy_score, f1_score, confusion_matrix, recall_score\n",
    "# Input data files are available in the \"../input/\" directory.\n",
    "# For example, running this (by clicking run or pressing Shift+Enter) will list all files under the input directory\n",
    "\n",
    "import os\n",
    "for dirname, _, filenames in os.walk('/kaggle/input'):\n",
    "    for filename in filenames:\n",
    "        print(os.path.join(dirname, filename))\n",
    "\n",
    "# Any results you write to the current directory are saved as output."
   ]
  },
  {
   "cell_type": "code",
   "execution_count": 2,
   "metadata": {},
   "outputs": [],
   "source": [
    "# Establish connection. database needs to be in the same folder as notebook \n",
    "conn = sqlite3.connect(\"database.sqlite\")\n",
    "\n",
    "# Then create a Cursor object from which we can call the execute() method and to perform SQL statements and queries.\n",
    "c = conn.cursor()"
   ]
  },
  {
   "cell_type": "code",
   "execution_count": 3,
   "metadata": {},
   "outputs": [],
   "source": [
    "raw_data = pd.read_sql(\"\"\"\n",
    "                       SELECT pub_rec_bankruptcies, earliest_cr_line, issue_d,  annual_inc, dti, emp_length, loan_amnt, int_rate,\n",
    "                       home_ownership, term, loan_status\n",
    "                       FROM loan\n",
    "                       WHERE application_type in ('Individual')\n",
    "                       \"\"\", con=conn)"
   ]
  },
  {
   "cell_type": "code",
   "execution_count": 4,
   "metadata": {},
   "outputs": [
    {
     "name": "stdout",
     "output_type": "stream",
     "text": [
      "['pub_rec_bankruptcies', 'annual_inc', 'dti', 'loan_amnt', 'int_rate']\n"
     ]
    }
   ],
   "source": [
    "# Create a list of columns that are NOT numeric values\n",
    "not_numeric_cols = ['emp_length', 'loan_status', 'home_ownership', 'issue_d',\n",
    "                    'earliest_cr_line', 'purpose', 'term']\n",
    "\n",
    "# Create list of columns that ARE numeric values and print\n",
    "numeric_cols = [col for col in raw_data.columns if col not in not_numeric_cols]\n",
    "print(numeric_cols)\n",
    "\n",
    "# Convert numeric cols into numeric data types\n",
    "raw_data[numeric_cols] = raw_data[numeric_cols].apply(pd.to_numeric)"
   ]
  },
  {
   "cell_type": "code",
   "execution_count": 5,
   "metadata": {},
   "outputs": [],
   "source": [
    "# Create list of datetime columns\n",
    "datetime_cols = ['earliest_cr_line', 'issue_d']\n",
    "\n",
    "# Convert to datetime\n",
    "raw_data[datetime_cols] = raw_data[datetime_cols].apply(pd.to_datetime)"
   ]
  },
  {
   "cell_type": "code",
   "execution_count": 6,
   "metadata": {},
   "outputs": [
    {
     "data": {
      "text/plain": "pub_rec_bankruptcies           float64\nearliest_cr_line        datetime64[ns]\nissue_d                 datetime64[ns]\nannual_inc                     float64\ndti                            float64\nemp_length                      object\nloan_amnt                        int64\nint_rate                       float64\nhome_ownership                  object\nterm                            object\nloan_status                     object\ndtype: object"
     },
     "execution_count": 6,
     "metadata": {},
     "output_type": "execute_result"
    }
   ],
   "source": [
    "preprocess_df = raw_data\n",
    "preprocess_df.dtypes"
   ]
  },
  {
   "cell_type": "markdown",
   "metadata": {},
   "source": [
    "# Missing Data / Missing Observations"
   ]
  },
  {
   "cell_type": "code",
   "execution_count": 7,
   "metadata": {},
   "outputs": [
    {
     "data": {
      "text/plain": "pub_rec_bankruptcies    1365\nearliest_cr_line          29\nissue_d                    0\nannual_inc                 4\ndti                        0\nemp_length                 0\nloan_amnt                  0\nint_rate                   0\nhome_ownership             0\nterm                       0\nloan_status                0\ndtype: int64"
     },
     "execution_count": 7,
     "metadata": {},
     "output_type": "execute_result"
    }
   ],
   "source": [
    "preprocess_df.isnull().sum()"
   ]
  },
  {
   "cell_type": "markdown",
   "metadata": {},
   "source": [
    "# Character: pub_rec_bankruptcies & earliest_cr_line\n",
    "What it is: A lender’s opinion of a borrower’s general trustworthiness, credibility and personality.\n",
    "\n",
    "Why it matters: Banks want to lend to people who are responsible and keep commitments.\n",
    "\n",
    "How it’s assessed: From your work experience, credit history, credentials, references, reputation and interaction with lenders."
   ]
  },
  {
   "cell_type": "code",
   "execution_count": 8,
   "metadata": {},
   "outputs": [],
   "source": [
    "character_df = preprocess_df[['pub_rec_bankruptcies', 'earliest_cr_line', 'issue_d']].copy()"
   ]
  },
  {
   "cell_type": "code",
   "execution_count": 9,
   "metadata": {},
   "outputs": [
    {
     "name": "stdout",
     "output_type": "stream",
     "text": [
      "   pub_rec_bankruptcies earliest_cr_line    issue_d\n",
      "0                   1.0       2001-04-01 2018-12-01\n",
      "1                   1.0       1987-06-01 2018-12-01\n",
      "2                   0.0       2011-04-01 2018-12-01\n",
      "3                   0.0       2006-02-01 2018-12-01\n",
      "4                   0.0       2000-12-01 2018-12-01\n",
      "       pub_rec_bankruptcies\n",
      "count          2.138593e+06\n",
      "mean           1.281576e-01\n",
      "std            3.655991e-01\n",
      "min            0.000000e+00\n",
      "25%            0.000000e+00\n",
      "50%            0.000000e+00\n",
      "75%            0.000000e+00\n",
      "max            1.200000e+01\n",
      "pub_rec_bankruptcies           float64\n",
      "earliest_cr_line        datetime64[ns]\n",
      "issue_d                 datetime64[ns]\n",
      "dtype: object\n"
     ]
    }
   ],
   "source": [
    "print(character_df.head())\n",
    "print(character_df.describe())\n",
    "print(character_df.dtypes)"
   ]
  },
  {
   "cell_type": "markdown",
   "metadata": {},
   "source": [
    "<code>'earliest_cr_line'</code> shows the first credit line on the customer credit report. \n",
    "\n",
    "Will create a new feature that shows the number of months between the first credit line in the customers history and the issue date of the loan."
   ]
  },
  {
   "cell_type": "code",
   "execution_count": 10,
   "metadata": {},
   "outputs": [],
   "source": [
    "# fill the missing value for earliest_cr_line with most frequently occuring\n",
    "character_df['earliest_cr_line'].fillna(character_df['earliest_cr_line'].value_counts().index[0], inplace=True)"
   ]
  },
  {
   "cell_type": "code",
   "execution_count": 11,
   "metadata": {},
   "outputs": [
    {
     "data": {
      "text/plain": "   pub_rec_bankruptcies earliest_cr_line    issue_d  credit_hist_in_months\n0                   1.0       2001-04-01 2018-12-01                    212\n1                   1.0       1987-06-01 2018-12-01                    378\n2                   0.0       2011-04-01 2018-12-01                     92\n3                   0.0       2006-02-01 2018-12-01                    153\n4                   0.0       2000-12-01 2018-12-01                    215",
      "text/html": "<div>\n<style scoped>\n    .dataframe tbody tr th:only-of-type {\n        vertical-align: middle;\n    }\n\n    .dataframe tbody tr th {\n        vertical-align: top;\n    }\n\n    .dataframe thead th {\n        text-align: right;\n    }\n</style>\n<table border=\"1\" class=\"dataframe\">\n  <thead>\n    <tr style=\"text-align: right;\">\n      <th></th>\n      <th>pub_rec_bankruptcies</th>\n      <th>earliest_cr_line</th>\n      <th>issue_d</th>\n      <th>credit_hist_in_months</th>\n    </tr>\n  </thead>\n  <tbody>\n    <tr>\n      <th>0</th>\n      <td>1.0</td>\n      <td>2001-04-01</td>\n      <td>2018-12-01</td>\n      <td>212</td>\n    </tr>\n    <tr>\n      <th>1</th>\n      <td>1.0</td>\n      <td>1987-06-01</td>\n      <td>2018-12-01</td>\n      <td>378</td>\n    </tr>\n    <tr>\n      <th>2</th>\n      <td>0.0</td>\n      <td>2011-04-01</td>\n      <td>2018-12-01</td>\n      <td>92</td>\n    </tr>\n    <tr>\n      <th>3</th>\n      <td>0.0</td>\n      <td>2006-02-01</td>\n      <td>2018-12-01</td>\n      <td>153</td>\n    </tr>\n    <tr>\n      <th>4</th>\n      <td>0.0</td>\n      <td>2000-12-01</td>\n      <td>2018-12-01</td>\n      <td>215</td>\n    </tr>\n  </tbody>\n</table>\n</div>"
     },
     "execution_count": 11,
     "metadata": {},
     "output_type": "execute_result"
    }
   ],
   "source": [
    "# count months between now and 'earliest_cr_line'\n",
    "character_df['credit_hist_in_months'] = ((character_df['issue_d'] - character_df['earliest_cr_line'])/np.timedelta64(1, 'M'))\n",
    "character_df['credit_hist_in_months'] = character_df['credit_hist_in_months'].astype(int)\n",
    "\n",
    "character_df.head()"
   ]
  },
  {
   "cell_type": "code",
   "execution_count": 12,
   "metadata": {},
   "outputs": [
    {
     "data": {
      "text/plain": "   pub_rec_bankruptcies earliest_cr_line    issue_d  credit_hist_in_months  \\\n0                   1.0       2001-04-01 2018-12-01                    212   \n1                   1.0       1987-06-01 2018-12-01                    378   \n2                   0.0       2011-04-01 2018-12-01                     92   \n3                   0.0       2006-02-01 2018-12-01                    153   \n4                   0.0       2000-12-01 2018-12-01                    215   \n\n   cb_person_bk_on_file_Y  cb_person_bk_on_file_N  \n0                       1                       0  \n1                       1                       0  \n2                       0                       1  \n3                       0                       1  \n4                       0                       1  ",
      "text/html": "<div>\n<style scoped>\n    .dataframe tbody tr th:only-of-type {\n        vertical-align: middle;\n    }\n\n    .dataframe tbody tr th {\n        vertical-align: top;\n    }\n\n    .dataframe thead th {\n        text-align: right;\n    }\n</style>\n<table border=\"1\" class=\"dataframe\">\n  <thead>\n    <tr style=\"text-align: right;\">\n      <th></th>\n      <th>pub_rec_bankruptcies</th>\n      <th>earliest_cr_line</th>\n      <th>issue_d</th>\n      <th>credit_hist_in_months</th>\n      <th>cb_person_bk_on_file_Y</th>\n      <th>cb_person_bk_on_file_N</th>\n    </tr>\n  </thead>\n  <tbody>\n    <tr>\n      <th>0</th>\n      <td>1.0</td>\n      <td>2001-04-01</td>\n      <td>2018-12-01</td>\n      <td>212</td>\n      <td>1</td>\n      <td>0</td>\n    </tr>\n    <tr>\n      <th>1</th>\n      <td>1.0</td>\n      <td>1987-06-01</td>\n      <td>2018-12-01</td>\n      <td>378</td>\n      <td>1</td>\n      <td>0</td>\n    </tr>\n    <tr>\n      <th>2</th>\n      <td>0.0</td>\n      <td>2011-04-01</td>\n      <td>2018-12-01</td>\n      <td>92</td>\n      <td>0</td>\n      <td>1</td>\n    </tr>\n    <tr>\n      <th>3</th>\n      <td>0.0</td>\n      <td>2006-02-01</td>\n      <td>2018-12-01</td>\n      <td>153</td>\n      <td>0</td>\n      <td>1</td>\n    </tr>\n    <tr>\n      <th>4</th>\n      <td>0.0</td>\n      <td>2000-12-01</td>\n      <td>2018-12-01</td>\n      <td>215</td>\n      <td>0</td>\n      <td>1</td>\n    </tr>\n  </tbody>\n</table>\n</div>"
     },
     "execution_count": 12,
     "metadata": {},
     "output_type": "execute_result"
    }
   ],
   "source": [
    "# Create a new binary feature of whether or not there is a bankruptcy on file in customers credit history\n",
    "character_df['cb_person_bk_on_file_Y'] = character_df['pub_rec_bankruptcies'].apply(lambda x: 1 if x >= 1 else 0)\n",
    "character_df['cb_person_bk_on_file_N'] = character_df['pub_rec_bankruptcies'].apply(lambda x: 1 if x < 1 else 0)\n",
    "character_df.head()"
   ]
  },
  {
   "cell_type": "code",
   "execution_count": 13,
   "metadata": {},
   "outputs": [
    {
     "data": {
      "text/plain": "   credit_hist_in_months  cb_person_bk_on_file_Y  cb_person_bk_on_file_N\n0                    212                       1                       0\n1                    378                       1                       0\n2                     92                       0                       1\n3                    153                       0                       1\n4                    215                       0                       1",
      "text/html": "<div>\n<style scoped>\n    .dataframe tbody tr th:only-of-type {\n        vertical-align: middle;\n    }\n\n    .dataframe tbody tr th {\n        vertical-align: top;\n    }\n\n    .dataframe thead th {\n        text-align: right;\n    }\n</style>\n<table border=\"1\" class=\"dataframe\">\n  <thead>\n    <tr style=\"text-align: right;\">\n      <th></th>\n      <th>credit_hist_in_months</th>\n      <th>cb_person_bk_on_file_Y</th>\n      <th>cb_person_bk_on_file_N</th>\n    </tr>\n  </thead>\n  <tbody>\n    <tr>\n      <th>0</th>\n      <td>212</td>\n      <td>1</td>\n      <td>0</td>\n    </tr>\n    <tr>\n      <th>1</th>\n      <td>378</td>\n      <td>1</td>\n      <td>0</td>\n    </tr>\n    <tr>\n      <th>2</th>\n      <td>92</td>\n      <td>0</td>\n      <td>1</td>\n    </tr>\n    <tr>\n      <th>3</th>\n      <td>153</td>\n      <td>0</td>\n      <td>1</td>\n    </tr>\n    <tr>\n      <th>4</th>\n      <td>215</td>\n      <td>0</td>\n      <td>1</td>\n    </tr>\n  </tbody>\n</table>\n</div>"
     },
     "execution_count": 13,
     "metadata": {},
     "output_type": "execute_result"
    }
   ],
   "source": [
    "# drop the old features from the character_df\n",
    "character_df.drop(['pub_rec_bankruptcies', 'earliest_cr_line', 'issue_d'], axis=1, inplace=True)\n",
    "character_df.head()"
   ]
  },
  {
   "cell_type": "markdown",
   "metadata": {},
   "source": [
    "# Capacity/Cash flow: annual_inc & dti\n",
    "What it is: Your ability to repay the loan.\n",
    "\n",
    "Why it matters: Lenders want to be assured that your business generates enough cash flow to repay the loan in full."
   ]
  },
  {
   "cell_type": "code",
   "execution_count": 14,
   "metadata": {},
   "outputs": [
    {
     "data": {
      "text/plain": "   annual_inc    dti\n0     55000.0  18.24\n1     90000.0  26.52\n2     59280.0  10.51\n3     92000.0  16.74\n4     57250.0  26.35",
      "text/html": "<div>\n<style scoped>\n    .dataframe tbody tr th:only-of-type {\n        vertical-align: middle;\n    }\n\n    .dataframe tbody tr th {\n        vertical-align: top;\n    }\n\n    .dataframe thead th {\n        text-align: right;\n    }\n</style>\n<table border=\"1\" class=\"dataframe\">\n  <thead>\n    <tr style=\"text-align: right;\">\n      <th></th>\n      <th>annual_inc</th>\n      <th>dti</th>\n    </tr>\n  </thead>\n  <tbody>\n    <tr>\n      <th>0</th>\n      <td>55000.0</td>\n      <td>18.24</td>\n    </tr>\n    <tr>\n      <th>1</th>\n      <td>90000.0</td>\n      <td>26.52</td>\n    </tr>\n    <tr>\n      <th>2</th>\n      <td>59280.0</td>\n      <td>10.51</td>\n    </tr>\n    <tr>\n      <th>3</th>\n      <td>92000.0</td>\n      <td>16.74</td>\n    </tr>\n    <tr>\n      <th>4</th>\n      <td>57250.0</td>\n      <td>26.35</td>\n    </tr>\n  </tbody>\n</table>\n</div>"
     },
     "execution_count": 14,
     "metadata": {},
     "output_type": "execute_result"
    }
   ],
   "source": [
    "capacity_df = preprocess_df[['annual_inc', 'dti']].copy()\n",
    "capacity_df.head()"
   ]
  },
  {
   "cell_type": "code",
   "execution_count": 15,
   "metadata": {},
   "outputs": [],
   "source": [
    "# fill missing values for annual income with the mean\n",
    "capacity_df['annual_inc'] = capacity_df['annual_inc'].fillna(capacity_df['annual_inc'].mean())"
   ]
  },
  {
   "cell_type": "code",
   "execution_count": 16,
   "metadata": {},
   "outputs": [
    {
     "name": "stdout",
     "output_type": "stream",
     "text": [
      "         annual_inc           dti\n",
      "count  2.139958e+06  2.139958e+06\n",
      "mean   7.900108e+04  1.809316e+01\n",
      "std    1.150763e+05  8.425408e+00\n",
      "min    1.896000e+03 -1.000000e+00\n",
      "25%    4.740000e+04  1.178000e+01\n",
      "50%    6.530000e+04  1.760000e+01\n",
      "75%    9.500000e+04  2.404000e+01\n",
      "max    1.100000e+08  4.996000e+01\n"
     ]
    }
   ],
   "source": [
    "# describe the capacity/cash flow proxy features\n",
    "print(capacity_df[['annual_inc', 'dti']].describe())"
   ]
  },
  {
   "cell_type": "code",
   "execution_count": 17,
   "metadata": {},
   "outputs": [
    {
     "data": {
      "text/plain": "'Minimum Annual Income in the Dataset is $1896.0 and maximum annual income in the Dataset is 110000000.0'"
     },
     "execution_count": 17,
     "metadata": {},
     "output_type": "execute_result"
    }
   ],
   "source": [
    "f\"Minimum Annual Income in the Dataset is ${capacity_df.annual_inc.min()} and maximum annual income in the Dataset is {capacity_df.annual_inc.max()}\""
   ]
  },
  {
   "cell_type": "code",
   "execution_count": 18,
   "metadata": {},
   "outputs": [
    {
     "data": {
      "text/plain": "'Minimum debt-to-income in the Dataset is -1.0 and maximum debt-to-income in the Dataset is 49.96'"
     },
     "execution_count": 18,
     "metadata": {},
     "output_type": "execute_result"
    }
   ],
   "source": [
    "f\"Minimum debt-to-income in the Dataset is {capacity_df.dti.min()} and maximum debt-to-income in the Dataset is {capacity_df.dti.max()}\""
   ]
  },
  {
   "cell_type": "markdown",
   "metadata": {},
   "source": [
    "# Capital\n",
    "What it is: The amount of money invested by the business owner or management team.\n",
    "\n",
    "Why it matters: Banks are more willing to lend to owners who have invested some of their own money into the venture. It shows you have some “skin in the game.”\n",
    "\n",
    "How it’s assessed: From the amount of money the borrower or management team has invested in the business."
   ]
  },
  {
   "cell_type": "markdown",
   "metadata": {},
   "source": [
    "# <i>NO PROXY FEATURES USED FOR CAPITAL<i>"
   ]
  },
  {
   "cell_type": "markdown",
   "metadata": {},
   "source": [
    "# Conditions : loan_amnt, int_rate, term\n",
    "What it is: The condition of your business — whether it is growing or faltering — as well as what you’ll use the funds for. It also considers the state of the economy, industry trends and how these factors might affect your ability to repay the loan.\n",
    "\n",
    "Why it matters: To ensure that loans are repaid, banks want to lend to businesses operating under favorable conditions. They aim to identify risks and protect themselves accordingly.\n",
    "\n",
    "How it’s assessed: From a review of the competitive landscape, supplier and customer relationships, and macroeconomic and industry-specific issues."
   ]
  },
  {
   "cell_type": "code",
   "execution_count": 19,
   "metadata": {},
   "outputs": [],
   "source": [
    "conditions_df = preprocess_df[['loan_amnt', 'int_rate', 'term']].copy()"
   ]
  },
  {
   "cell_type": "code",
   "execution_count": 20,
   "metadata": {
    "scrolled": false
   },
   "outputs": [
    {
     "data": {
      "text/plain": " 36 months    1539983\n 60 months     599975\nName: term, dtype: int64"
     },
     "execution_count": 20,
     "metadata": {},
     "output_type": "execute_result"
    }
   ],
   "source": [
    "conditions_df.term.value_counts()"
   ]
  },
  {
   "cell_type": "code",
   "execution_count": 21,
   "metadata": {},
   "outputs": [
    {
     "name": "stdout",
     "output_type": "stream",
     "text": [
      "0    1539983\n",
      "1     599975\n",
      "Name: term_60, dtype: int64\n"
     ]
    },
    {
     "data": {
      "text/plain": "   loan_amnt  int_rate  term_60\n0       2500     13.56        0\n1      30000     18.94        1\n2       5000     17.97        0\n3       4000     18.94        0\n4      30000     16.14        1",
      "text/html": "<div>\n<style scoped>\n    .dataframe tbody tr th:only-of-type {\n        vertical-align: middle;\n    }\n\n    .dataframe tbody tr th {\n        vertical-align: top;\n    }\n\n    .dataframe thead th {\n        text-align: right;\n    }\n</style>\n<table border=\"1\" class=\"dataframe\">\n  <thead>\n    <tr style=\"text-align: right;\">\n      <th></th>\n      <th>loan_amnt</th>\n      <th>int_rate</th>\n      <th>term_60</th>\n    </tr>\n  </thead>\n  <tbody>\n    <tr>\n      <th>0</th>\n      <td>2500</td>\n      <td>13.56</td>\n      <td>0</td>\n    </tr>\n    <tr>\n      <th>1</th>\n      <td>30000</td>\n      <td>18.94</td>\n      <td>1</td>\n    </tr>\n    <tr>\n      <th>2</th>\n      <td>5000</td>\n      <td>17.97</td>\n      <td>0</td>\n    </tr>\n    <tr>\n      <th>3</th>\n      <td>4000</td>\n      <td>18.94</td>\n      <td>0</td>\n    </tr>\n    <tr>\n      <th>4</th>\n      <td>30000</td>\n      <td>16.14</td>\n      <td>1</td>\n    </tr>\n  </tbody>\n</table>\n</div>"
     },
     "execution_count": 21,
     "metadata": {},
     "output_type": "execute_result"
    }
   ],
   "source": [
    "# Convert values of term to 0, 1 where 0 = 36 months and 1 = 60 months\n",
    "conditions_df['term'] = conditions_df['term'].replace({' 36 months': '0',\n",
    "                                                       ' 60 months': '1'})\n",
    "\n",
    "# convert term into an integer data type \n",
    "conditions_df['term'] = conditions_df['term'].astype(int)\n",
    "\n",
    "# Rename term column\n",
    "conditions_df = conditions_df.rename(columns={'term': 'term_60'})\n",
    "\n",
    "print(conditions_df.term_60.value_counts())\n",
    "conditions_df.head()"
   ]
  },
  {
   "cell_type": "markdown",
   "metadata": {},
   "source": [
    "# Collateral: home_ownership\n",
    "What it is: Assets that are used to guarantee or secure a loan.\n",
    "\n",
    "Why it matters: Collateral is a backup source if the borrower cannot repay a loan."
   ]
  },
  {
   "cell_type": "code",
   "execution_count": 22,
   "metadata": {},
   "outputs": [
    {
     "data": {
      "text/plain": "  home_ownership\n0           RENT\n1       MORTGAGE\n2       MORTGAGE\n3       MORTGAGE\n4       MORTGAGE",
      "text/html": "<div>\n<style scoped>\n    .dataframe tbody tr th:only-of-type {\n        vertical-align: middle;\n    }\n\n    .dataframe tbody tr th {\n        vertical-align: top;\n    }\n\n    .dataframe thead th {\n        text-align: right;\n    }\n</style>\n<table border=\"1\" class=\"dataframe\">\n  <thead>\n    <tr style=\"text-align: right;\">\n      <th></th>\n      <th>home_ownership</th>\n    </tr>\n  </thead>\n  <tbody>\n    <tr>\n      <th>0</th>\n      <td>RENT</td>\n    </tr>\n    <tr>\n      <th>1</th>\n      <td>MORTGAGE</td>\n    </tr>\n    <tr>\n      <th>2</th>\n      <td>MORTGAGE</td>\n    </tr>\n    <tr>\n      <th>3</th>\n      <td>MORTGAGE</td>\n    </tr>\n    <tr>\n      <th>4</th>\n      <td>MORTGAGE</td>\n    </tr>\n  </tbody>\n</table>\n</div>"
     },
     "execution_count": 22,
     "metadata": {},
     "output_type": "execute_result"
    }
   ],
   "source": [
    "collateral_df = preprocess_df[['home_ownership']].copy()\n",
    "collateral_df.head()"
   ]
  },
  {
   "cell_type": "code",
   "execution_count": 23,
   "metadata": {},
   "outputs": [
    {
     "data": {
      "text/plain": "   home_ownership_ANY  home_ownership_MORTGAGE  home_ownership_NONE  \\\n0                   0                        0                    0   \n1                   0                        1                    0   \n2                   0                        1                    0   \n3                   0                        1                    0   \n4                   0                        1                    0   \n\n   home_ownership_OTHER  home_ownership_OWN  home_ownership_RENT  \n0                     0                   0                    1  \n1                     0                   0                    0  \n2                     0                   0                    0  \n3                     0                   0                    0  \n4                     0                   0                    0  ",
      "text/html": "<div>\n<style scoped>\n    .dataframe tbody tr th:only-of-type {\n        vertical-align: middle;\n    }\n\n    .dataframe tbody tr th {\n        vertical-align: top;\n    }\n\n    .dataframe thead th {\n        text-align: right;\n    }\n</style>\n<table border=\"1\" class=\"dataframe\">\n  <thead>\n    <tr style=\"text-align: right;\">\n      <th></th>\n      <th>home_ownership_ANY</th>\n      <th>home_ownership_MORTGAGE</th>\n      <th>home_ownership_NONE</th>\n      <th>home_ownership_OTHER</th>\n      <th>home_ownership_OWN</th>\n      <th>home_ownership_RENT</th>\n    </tr>\n  </thead>\n  <tbody>\n    <tr>\n      <th>0</th>\n      <td>0</td>\n      <td>0</td>\n      <td>0</td>\n      <td>0</td>\n      <td>0</td>\n      <td>1</td>\n    </tr>\n    <tr>\n      <th>1</th>\n      <td>0</td>\n      <td>1</td>\n      <td>0</td>\n      <td>0</td>\n      <td>0</td>\n      <td>0</td>\n    </tr>\n    <tr>\n      <th>2</th>\n      <td>0</td>\n      <td>1</td>\n      <td>0</td>\n      <td>0</td>\n      <td>0</td>\n      <td>0</td>\n    </tr>\n    <tr>\n      <th>3</th>\n      <td>0</td>\n      <td>1</td>\n      <td>0</td>\n      <td>0</td>\n      <td>0</td>\n      <td>0</td>\n    </tr>\n    <tr>\n      <th>4</th>\n      <td>0</td>\n      <td>1</td>\n      <td>0</td>\n      <td>0</td>\n      <td>0</td>\n      <td>0</td>\n    </tr>\n  </tbody>\n</table>\n</div>"
     },
     "execution_count": 23,
     "metadata": {},
     "output_type": "execute_result"
    }
   ],
   "source": [
    "# create emp_length dummy data frame\n",
    "home_ownership = pd.DataFrame(pd.get_dummies(collateral_df['home_ownership'], prefix='home_ownership'))\n",
    "\n",
    "# join the loan_amnt dummy dataframe to conditions_df\n",
    "collateral_df = pd.concat([collateral_df, home_ownership], axis=1, sort=False)\n",
    "\n",
    "# drop original emp_length feature\n",
    "collateral_df.drop(['home_ownership'], axis=1, inplace=True)\n",
    "\n",
    "collateral_df.head()"
   ]
  },
  {
   "cell_type": "markdown",
   "metadata": {},
   "source": [
    "# Loan Status\n",
    "\n",
    "Current Status of the Loan. Target variable"
   ]
  },
  {
   "cell_type": "code",
   "execution_count": 24,
   "metadata": {},
   "outputs": [
    {
     "data": {
      "text/plain": "Fully Paid                                             1024444\nCurrent                                                 825914\nCharged Off                                             255926\nLate (31-120 days)                                       19716\nIn Grace Period                                           7862\nLate (16-30 days)                                         3323\nDoes not meet the credit policy. Status:Fully Paid        1988\nDoes not meet the credit policy. Status:Charged Off        761\nDefault                                                     24\nName: loan_status, dtype: int64"
     },
     "execution_count": 24,
     "metadata": {},
     "output_type": "execute_result"
    }
   ],
   "source": [
    "loan_status_df = preprocess_df[['loan_status']].copy()\n",
    "loan_status_df.loan_status.value_counts()"
   ]
  },
  {
   "cell_type": "markdown",
   "metadata": {},
   "source": [
    "Remap loan_status values. Charged Off, Late, & In Grace Period are considered to be technical defaults. 0 is Non-default, 1 is Default"
   ]
  },
  {
   "cell_type": "code",
   "execution_count": 25,
   "metadata": {},
   "outputs": [
    {
     "data": {
      "text/plain": "0    1852346\n1     287612\nName: loan_status, dtype: int64"
     },
     "execution_count": 25,
     "metadata": {},
     "output_type": "execute_result"
    }
   ],
   "source": [
    "loan_status_df['loan_status'] = loan_status_df['loan_status'].replace({'Fully Paid': 0, 'Current': 0, 'Charged Off': 1,\n",
    "                                                                       'Late (31-120 days)': 1, 'In Grace Period': 1,\n",
    "                                                                       'Late (16-30 days)':1,\n",
    "                                                                       'Does not meet the credit policy. Status:Fully Paid': 0,\n",
    "                                                                       'Does not meet the credit policy. Status:Charged Off': 1,\n",
    "                                                                       'Default':1})\n",
    "loan_status_df.loan_status.value_counts()"
   ]
  },
  {
   "cell_type": "markdown",
   "metadata": {},
   "source": [
    "# Combine all the processed dataframes together into a single one"
   ]
  },
  {
   "cell_type": "code",
   "execution_count": 26,
   "metadata": {},
   "outputs": [
    {
     "data": {
      "text/plain": "   credit_hist_in_months  cb_person_bk_on_file_Y  cb_person_bk_on_file_N  \\\n0                    212                       1                       0   \n1                    378                       1                       0   \n2                     92                       0                       1   \n3                    153                       0                       1   \n4                    215                       0                       1   \n\n   annual_inc    dti  loan_amnt  int_rate  term_60  home_ownership_ANY  \\\n0     55000.0  18.24       2500     13.56        0                   0   \n1     90000.0  26.52      30000     18.94        1                   0   \n2     59280.0  10.51       5000     17.97        0                   0   \n3     92000.0  16.74       4000     18.94        0                   0   \n4     57250.0  26.35      30000     16.14        1                   0   \n\n   home_ownership_MORTGAGE  home_ownership_NONE  home_ownership_OTHER  \\\n0                        0                    0                     0   \n1                        1                    0                     0   \n2                        1                    0                     0   \n3                        1                    0                     0   \n4                        1                    0                     0   \n\n   home_ownership_OWN  home_ownership_RENT  loan_status  \n0                   0                    1            0  \n1                   0                    0            0  \n2                   0                    0            0  \n3                   0                    0            0  \n4                   0                    0            0  ",
      "text/html": "<div>\n<style scoped>\n    .dataframe tbody tr th:only-of-type {\n        vertical-align: middle;\n    }\n\n    .dataframe tbody tr th {\n        vertical-align: top;\n    }\n\n    .dataframe thead th {\n        text-align: right;\n    }\n</style>\n<table border=\"1\" class=\"dataframe\">\n  <thead>\n    <tr style=\"text-align: right;\">\n      <th></th>\n      <th>credit_hist_in_months</th>\n      <th>cb_person_bk_on_file_Y</th>\n      <th>cb_person_bk_on_file_N</th>\n      <th>annual_inc</th>\n      <th>dti</th>\n      <th>loan_amnt</th>\n      <th>int_rate</th>\n      <th>term_60</th>\n      <th>home_ownership_ANY</th>\n      <th>home_ownership_MORTGAGE</th>\n      <th>home_ownership_NONE</th>\n      <th>home_ownership_OTHER</th>\n      <th>home_ownership_OWN</th>\n      <th>home_ownership_RENT</th>\n      <th>loan_status</th>\n    </tr>\n  </thead>\n  <tbody>\n    <tr>\n      <th>0</th>\n      <td>212</td>\n      <td>1</td>\n      <td>0</td>\n      <td>55000.0</td>\n      <td>18.24</td>\n      <td>2500</td>\n      <td>13.56</td>\n      <td>0</td>\n      <td>0</td>\n      <td>0</td>\n      <td>0</td>\n      <td>0</td>\n      <td>0</td>\n      <td>1</td>\n      <td>0</td>\n    </tr>\n    <tr>\n      <th>1</th>\n      <td>378</td>\n      <td>1</td>\n      <td>0</td>\n      <td>90000.0</td>\n      <td>26.52</td>\n      <td>30000</td>\n      <td>18.94</td>\n      <td>1</td>\n      <td>0</td>\n      <td>1</td>\n      <td>0</td>\n      <td>0</td>\n      <td>0</td>\n      <td>0</td>\n      <td>0</td>\n    </tr>\n    <tr>\n      <th>2</th>\n      <td>92</td>\n      <td>0</td>\n      <td>1</td>\n      <td>59280.0</td>\n      <td>10.51</td>\n      <td>5000</td>\n      <td>17.97</td>\n      <td>0</td>\n      <td>0</td>\n      <td>1</td>\n      <td>0</td>\n      <td>0</td>\n      <td>0</td>\n      <td>0</td>\n      <td>0</td>\n    </tr>\n    <tr>\n      <th>3</th>\n      <td>153</td>\n      <td>0</td>\n      <td>1</td>\n      <td>92000.0</td>\n      <td>16.74</td>\n      <td>4000</td>\n      <td>18.94</td>\n      <td>0</td>\n      <td>0</td>\n      <td>1</td>\n      <td>0</td>\n      <td>0</td>\n      <td>0</td>\n      <td>0</td>\n      <td>0</td>\n    </tr>\n    <tr>\n      <th>4</th>\n      <td>215</td>\n      <td>0</td>\n      <td>1</td>\n      <td>57250.0</td>\n      <td>26.35</td>\n      <td>30000</td>\n      <td>16.14</td>\n      <td>1</td>\n      <td>0</td>\n      <td>1</td>\n      <td>0</td>\n      <td>0</td>\n      <td>0</td>\n      <td>0</td>\n      <td>0</td>\n    </tr>\n  </tbody>\n</table>\n</div>"
     },
     "execution_count": 26,
     "metadata": {},
     "output_type": "execute_result"
    }
   ],
   "source": [
    "# Concatenate all the processed dataframes into a single one\n",
    "processed_df = pd.concat([character_df,\n",
    "                          capacity_df,\n",
    "                          conditions_df,\n",
    "                          collateral_df,\n",
    "                          loan_status_df], axis=1, sort=False)\n",
    "processed_df.head()"
   ]
  },
  {
   "cell_type": "markdown",
   "metadata": {},
   "source": [
    "# Count total Non-Defualt and Defaulted Loans in the Data Set\n",
    "\n",
    "Where \n",
    "\n",
    "'0' is a loan that has NOT defaulted \n",
    "\n",
    "and \n",
    "\n",
    "'1' is a loan that HAS defaulted"
   ]
  },
  {
   "cell_type": "code",
   "execution_count": 27,
   "metadata": {},
   "outputs": [
    {
     "name": "stdout",
     "output_type": "stream",
     "text": [
      "0    1852346\n",
      "1     287612\n",
      "Name: loan_status, dtype: int64\n"
     ]
    }
   ],
   "source": [
    "print(processed_df.loan_status.value_counts())"
   ]
  },
  {
   "cell_type": "code",
   "execution_count": 28,
   "metadata": {},
   "outputs": [
    {
     "data": {
      "text/plain": "Text(0, 0.5, 'Number of Loans')"
     },
     "execution_count": 28,
     "metadata": {},
     "output_type": "execute_result"
    },
    {
     "data": {
      "text/plain": "<Figure size 432x288 with 1 Axes>",
      "image/png": "[encoded data removed]"
     },
     "metadata": {
      "needs_background": "light"
     },
     "output_type": "display_data"
    }
   ],
   "source": [
    "ax = processed_df.loan_status.value_counts().plot(kind='bar')\n",
    "labels = ['Non-Default', 'Default']\n",
    "ax.set_xticklabels(labels, rotation='horizontal')\n",
    "ax.set_ylabel('Number of Loans')"
   ]
  },
  {
   "cell_type": "markdown",
   "metadata": {},
   "source": [
    "# Correlation in Credit Features"
   ]
  },
  {
   "cell_type": "code",
   "execution_count": 29,
   "metadata": {},
   "outputs": [
    {
     "data": {
      "text/plain": "<Figure size 1440x720 with 2 Axes>",
      "image/png": "[encoded data removed]"
     },
     "metadata": {
      "needs_background": "light"
     },
     "output_type": "display_data"
    }
   ],
   "source": [
    "# Sample figsize in inches\n",
    "fig, ax = plt.subplots(figsize=(20,10))\n",
    "\n",
    "# Imbalanced DataFrame Correlation\n",
    "corr = processed_df.corr()\n",
    "sns.heatmap(corr, cmap='YlGnBu', annot_kws={'size':30}, ax=ax)\n",
    "ax.set_title(\"Imbalanced Correlation Matrix\", fontsize=14)\n",
    "plt.show()"
   ]
  },
  {
   "cell_type": "markdown",
   "metadata": {},
   "source": [
    "# Undersampling\n",
    "\n",
    "The process where you randomly delete some of the observations from the majority class in order to match the numbers with the minority class"
   ]
  },
  {
   "cell_type": "code",
   "execution_count": 30,
   "metadata": {},
   "outputs": [],
   "source": [
    "# Shuffle the Dataset.\n",
    "random_data = processed_df.sample(frac=1,random_state=4)\n",
    "\n",
    "# Put all the fraud class in a separate dataset.\n",
    "default_df = random_data.loc[random_data['loan_status'] == 1]\n",
    "\n",
    "#Randomly select 287612 observations from the non-fraud (majority class)\n",
    "non_default_df = random_data.loc[random_data['loan_status'] == 0].sample(n=287612,random_state=42)"
   ]
  },
  {
   "cell_type": "code",
   "execution_count": 31,
   "metadata": {
    "pycharm": {
     "name": "#%%\n"
    }
   },
   "outputs": [
    {
     "data": {
      "text/plain": "<Figure size 576x576 with 1 Axes>",
      "image/png": "[encoded data removed]"
     },
     "metadata": {
      "needs_background": "light"
     },
     "output_type": "display_data"
    }
   ],
   "source": [
    "# Concatenate both dataframes again\n",
    "US_df = pd.concat([default_df, non_default_df])\n",
    "\n",
    "#plot the dataset after the undersampling\n",
    "plt.figure(figsize=(8, 8))\n",
    "sns.countplot('loan_status', data=US_df)\n",
    "plt.title('Undersampled Balanced Loan Status')\n",
    "plt.show()"
   ]
  },
  {
   "cell_type": "code",
   "execution_count": 32,
   "metadata": {
    "pycharm": {
     "name": "#%%\n"
    }
   },
   "outputs": [],
   "source": [
    "# Create X and y using undersampled dataframe\n",
    "X = US_df.drop(['loan_status'], axis=1)\n",
    "y = US_df['loan_status']\n",
    "\n",
    "X_train_US, X_test_US, y_train_US, y_test_US = train_test_split(X, y, test_size=.4, random_state=123)"
   ]
  },
  {
   "cell_type": "code",
   "execution_count": 33,
   "metadata": {
    "pycharm": {
     "name": "#%%\n"
    }
   },
   "outputs": [
    {
     "name": "stdout",
     "output_type": "stream",
     "text": [
      "        loan_status  lr_pred_PD\n",
      "0                 0    0.578071\n",
      "1                 0    0.607914\n",
      "2                 0    0.372572\n",
      "3                 0    0.624609\n",
      "4                 0    0.268229\n",
      "...             ...         ...\n",
      "230085            1    0.339767\n",
      "230086            0    0.341947\n",
      "230087            0    0.500175\n",
      "230088            1    0.413517\n",
      "230089            1    0.500663\n",
      "\n",
      "[230090 rows x 2 columns]\n"
     ]
    }
   ],
   "source": [
    "# Create, train, and fit a logistic regression model\n",
    "from sklearn.linear_model import LogisticRegression\n",
    "clf_logistic = LogisticRegression(solver='lbfgs').fit(X_train_US, np.ravel(y_train_US))\n",
    "\n",
    "# Create predictions of probability for loan status using test data\n",
    "# .predict_proba creates an array of probabilities of default: [[non-defualt, default]]\n",
    "lr_preds = clf_logistic.predict_proba(X_test_US)\n",
    "\n",
    "# # Create dataframes of predictions and true labels\n",
    "lr_preds_df = pd.DataFrame(lr_preds[:,1][0:], columns = ['lr_pred_PD'])\n",
    "true_df = y_test_US\n",
    "\n",
    "# Concatenate and print the two data frames for comparison\n",
    "print(pd.concat([true_df.reset_index(drop = True), lr_preds_df], axis = 1))"
   ]
  },
  {
   "cell_type": "code",
   "execution_count": 34,
   "metadata": {
    "pycharm": {
     "name": "#%%\n"
    }
   },
   "outputs": [
    {
     "name": "stdout",
     "output_type": "stream",
     "text": [
      "Default / Non-default predictions at 60% Threshhold: \n",
      "0    169640\n",
      "1     60450\n",
      "Name: lr_pred_loan_status_60, dtype: int64\n",
      "Confusion Matrix at 60% Threshhold: \n",
      "[[95286 20047]\n",
      " [74354 40403]]\n",
      "              precision    recall  f1-score   support\n",
      "\n",
      " Non-Default       0.56      0.83      0.67    115333\n",
      "     Default       0.67      0.35      0.46    114757\n",
      "\n",
      "    accuracy                           0.59    230090\n",
      "   macro avg       0.62      0.59      0.56    230090\n",
      "weighted avg       0.61      0.59      0.57    230090\n",
      "\n"
     ]
    }
   ],
   "source": [
    "# Reassign loan status based on the threshold and print the predictions\n",
    "lr_preds_df['lr_pred_loan_status_60'] = lr_preds_df['lr_pred_PD'].apply(lambda x: 1 if x > 0.60 else 0)\n",
    "print(\"Default / Non-default predictions at 60% Threshhold: \")\n",
    "print(lr_preds_df['lr_pred_loan_status_60'].value_counts())\n",
    "\n",
    "# Print the confusion matrix\n",
    "from sklearn.metrics import confusion_matrix\n",
    "print(\"Confusion Matrix at 60% Threshhold: \")\n",
    "print(confusion_matrix(y_test_US, lr_preds_df['lr_pred_loan_status_60']))\n",
    "\n",
    "# Print the classification report\n",
    "from sklearn.metrics import classification_report\n",
    "target_names = ['Non-Default', 'Default']\n",
    "print(classification_report(y_test_US, lr_preds_df['lr_pred_loan_status_60'], target_names=target_names))"
   ]
  },
  {
   "cell_type": "code",
   "execution_count": 35,
   "metadata": {
    "pycharm": {
     "name": "#%%\n"
    }
   },
   "outputs": [
    {
     "name": "stdout",
     "output_type": "stream",
     "text": [
      "Default / Non-default predictions at 50% Threshhold: \n",
      "1    135268\n",
      "0     94822\n",
      "Name: lr_pred_loan_status_50, dtype: int64\n",
      "Confusion Matrix at 50% Threshhold: \n",
      "[[60298 55035]\n",
      " [34524 80233]]\n",
      "              precision    recall  f1-score   support\n",
      "\n",
      " Non-Default       0.64      0.52      0.57    115333\n",
      "     Default       0.59      0.70      0.64    114757\n",
      "\n",
      "    accuracy                           0.61    230090\n",
      "   macro avg       0.61      0.61      0.61    230090\n",
      "weighted avg       0.61      0.61      0.61    230090\n",
      "\n"
     ]
    }
   ],
   "source": [
    "# Reassign loan status based on the threshold and print the predictions\n",
    "lr_preds_df['lr_pred_loan_status_50'] = lr_preds_df['lr_pred_PD'].apply(lambda x: 1 if x > 0.50 else 0)\n",
    "print(\"Default / Non-default predictions at 50% Threshhold: \")\n",
    "print(lr_preds_df['lr_pred_loan_status_50'].value_counts())\n",
    "\n",
    "# Print the confusion matrix\n",
    "from sklearn.metrics import confusion_matrix\n",
    "print(\"Confusion Matrix at 50% Threshhold: \")\n",
    "print(confusion_matrix(y_test_US, lr_preds_df['lr_pred_loan_status_50']))\n",
    "\n",
    "# Print the classification report\n",
    "from sklearn.metrics import classification_report\n",
    "target_names = ['Non-Default', 'Default']\n",
    "print(classification_report(y_test_US, lr_preds_df['lr_pred_loan_status_50'], target_names=target_names))"
   ]
  },
  {
   "cell_type": "markdown",
   "metadata": {},
   "source": [
    "# Oversampling\n",
    "\n",
    "The process of generating synthetic data that tries to randomly generate a sample of the attributes from observations in the minority class. There are a number of methods used to oversample a dataset for a typical classification problem. The most common technique is called SMOTE (Synthetic Minority Over-sampling Technique)"
   ]
  },
  {
   "cell_type": "code",
   "execution_count": 36,
   "metadata": {
    "pycharm": {
     "name": "#%%\n"
    }
   },
   "outputs": [],
   "source": [
    "# Create X and y using processed_df\n",
    "\n",
    "X = processed_df.drop(['loan_status'], axis=1)\n",
    "y = processed_df['loan_status']\n",
    "\n",
    "X_train, X_test, y_train, y_test = train_test_split(X, y, test_size=.4, random_state=123)"
   ]
  },
  {
   "cell_type": "code",
   "execution_count": 37,
   "metadata": {},
   "outputs": [],
   "source": [
    "from imblearn.over_sampling import SMOTE\n",
    "\n",
    "# Resample the minority class. You can change the strategy to 'auto' if you are not sure.\n",
    "sm = SMOTE(sampling_strategy='minority', random_state=7)\n",
    "\n",
    "# Fit the model to generate the data.\n",
    "oversampled_trainX, oversampled_trainY = sm.fit_sample(X_train, y_train)\n",
    "oversampled_train = pd.concat([pd.DataFrame(oversampled_trainY), pd.DataFrame(oversampled_trainX)], axis=1)\n",
    "oversampled_train.columns = processed_df.columns"
   ]
  },
  {
   "cell_type": "code",
   "execution_count": 38,
   "metadata": {
    "scrolled": false
   },
   "outputs": [
    {
     "data": {
      "text/plain": "<Figure size 1440x720 with 2 Axes>",
      "image/png": "[encoded data removed]"
     },
     "metadata": {
      "needs_background": "light"
     },
     "output_type": "display_data"
    }
   ],
   "source": [
    "# Sample figsize in inches\n",
    "fig, ax = plt.subplots(figsize=(20,10))\n",
    "\n",
    "# Imbalanced DataFrame Correlation\n",
    "corr = oversampled_train.corr()\n",
    "sns.heatmap(corr, cmap='YlGnBu', annot_kws={'size':30}, ax=ax)\n",
    "ax.set_title(\"Imbalanced Correlation Matrix\", fontsize=14)\n",
    "plt.show()"
   ]
  },
  {
   "cell_type": "code",
   "execution_count": 39,
   "metadata": {},
   "outputs": [],
   "source": [
    "from imblearn.ensemble import BalancedBaggingClassifier\n",
    "from sklearn.tree import DecisionTreeClassifier\n",
    "\n",
    "# Create an object of the classifier and fit oversampled training data to the object\n",
    "bbc = BalancedBaggingClassifier(base_estimator=DecisionTreeClassifier(),\n",
    "                                sampling_strategy='auto',\n",
    "                                replacement=False,\n",
    "                                random_state=0).fit(oversampled_trainX, np.ravel(oversampled_trainY))\n",
    "\n",
    "# Create predictions of probability for loan status using test data\n",
    "bbc_preds = bbc.predict_proba(X_test)"
   ]
  },
  {
   "cell_type": "code",
   "execution_count": 40,
   "metadata": {
    "pycharm": {
     "name": "#%%\n"
    }
   },
   "outputs": [
    {
     "name": "stdout",
     "output_type": "stream",
     "text": [
      "        loan_status  bbc_pred_PD\n",
      "0                 0          0.6\n",
      "1                 0          0.0\n",
      "2                 0          0.0\n",
      "3                 0          0.1\n",
      "4                 0          0.1\n",
      "...             ...          ...\n",
      "855979            1          0.1\n",
      "855980            0          0.3\n",
      "855981            0          0.0\n",
      "855982            1          0.8\n",
      "855983            1          0.1\n",
      "\n",
      "[855984 rows x 2 columns]\n"
     ]
    }
   ],
   "source": [
    "# Create dataframes of predictions and true labels\n",
    "bbc_preds_df = pd.DataFrame(bbc_preds[:,1][0:], columns = ['bbc_pred_PD'])\n",
    "true_df = y_test\n",
    "\n",
    "# Concatenate and print the two data frames for comparison\n",
    "print(pd.concat([true_df.reset_index(drop = True), bbc_preds_df], axis = 1))"
   ]
  },
  {
   "cell_type": "code",
   "execution_count": 41,
   "metadata": {
    "pycharm": {
     "name": "#%%\n"
    }
   },
   "outputs": [
    {
     "name": "stdout",
     "output_type": "stream",
     "text": [
      "Default / Non-default predictions at 60% Threshhold: \n",
      "0    813611\n",
      "1     42373\n",
      "Name: bbc_pred_loan_status_60, dtype: int64\n",
      "Confusion Matrix at 60% Threshhold: \n",
      "[[710236  30952]\n",
      " [103375  11421]]\n",
      "              precision    recall  f1-score   support\n",
      "\n",
      " Non-Default       0.87      0.96      0.91    741188\n",
      "     Default       0.27      0.10      0.15    114796\n",
      "\n",
      "    accuracy                           0.84    855984\n",
      "   macro avg       0.57      0.53      0.53    855984\n",
      "weighted avg       0.79      0.84      0.81    855984\n",
      "\n"
     ]
    }
   ],
   "source": [
    "# Reassign loan status based on the threshold and print the predictions\n",
    "bbc_preds_df['bbc_pred_loan_status_60'] = bbc_preds_df['bbc_pred_PD'].apply(lambda x: 1 if x > 0.50 else 0)\n",
    "print(\"Default / Non-default predictions at 60% Threshhold: \")\n",
    "print(bbc_preds_df['bbc_pred_loan_status_60'].value_counts())\n",
    "\n",
    "# Print the confusion matrix\n",
    "from sklearn.metrics import confusion_matrix\n",
    "print(\"Confusion Matrix at 60% Threshhold: \")\n",
    "print(confusion_matrix(y_test, bbc_preds_df['bbc_pred_loan_status_60']))\n",
    "\n",
    "# Print the classification report\n",
    "from sklearn.metrics import classification_report\n",
    "target_names = ['Non-Default', 'Default']\n",
    "print(classification_report(y_test, bbc_preds_df['bbc_pred_loan_status_60'], target_names=target_names))\n"
   ]
  },
  {
   "cell_type": "code",
   "execution_count": 42,
   "metadata": {},
   "outputs": [
    {
     "name": "stdout",
     "output_type": "stream",
     "text": [
      "Default / Non-default predictions at 50% Threshhold: \n",
      "0    813611\n",
      "1     42373\n",
      "Name: bbc_pred_loan_status_50, dtype: int64\n",
      "Confusion Matrix at 50% Threshhold: \n",
      "[[710236  30952]\n",
      " [103375  11421]]\n",
      "              precision    recall  f1-score   support\n",
      "\n",
      " Non-Default       0.87      0.96      0.91    741188\n",
      "     Default       0.27      0.10      0.15    114796\n",
      "\n",
      "    accuracy                           0.84    855984\n",
      "   macro avg       0.57      0.53      0.53    855984\n",
      "weighted avg       0.79      0.84      0.81    855984\n",
      "\n"
     ]
    }
   ],
   "source": [
    "# Reassign loan status based on the threshold and print the predictions\n",
    "bbc_preds_df['bbc_pred_loan_status_50'] = bbc_preds_df['bbc_pred_PD'].apply(lambda x: 1 if x > 0.50 else 0)\n",
    "print(\"Default / Non-default predictions at 50% Threshhold: \")\n",
    "print(bbc_preds_df['bbc_pred_loan_status_50'].value_counts())\n",
    "\n",
    "# Print the confusion matrix\n",
    "from sklearn.metrics import confusion_matrix\n",
    "print(\"Confusion Matrix at 50% Threshhold: \")\n",
    "print(confusion_matrix(y_test, bbc_preds_df['bbc_pred_loan_status_50']))\n",
    "\n",
    "# Print the classification report\n",
    "from sklearn.metrics import classification_report\n",
    "target_names = ['Non-Default', 'Default']\n",
    "print(classification_report(y_test, bbc_preds_df['bbc_pred_loan_status_50'], target_names=target_names))\n"
   ]
  },
  {
   "cell_type": "code",
   "execution_count": 42,
   "metadata": {},
   "outputs": [],
   "source": []
  },
  {
   "cell_type": "code",
   "execution_count": 42,
   "metadata": {},
   "outputs": [],
   "source": []
  }
 ],
 "metadata": {
  "kernelspec": {
   "display_name": "Python 3",
   "language": "python",
   "name": "python3"
  },
  "language_info": {
   "codemirror_mode": {
    "name": "ipython",
    "version": 3
   },
   "file_extension": ".py",
   "mimetype": "text/x-python",
   "name": "python",
   "nbconvert_exporter": "python",
   "pygments_lexer": "ipython3",
   "version": "3.7.4"
  }
 },
 "nbformat": 4,
 "nbformat_minor": 2
}